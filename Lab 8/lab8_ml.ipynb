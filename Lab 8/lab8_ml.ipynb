{
 "cells": [
  {
   "cell_type": "markdown",
   "metadata": {},
   "source": [
    "Import Libraries "
   ]
  },
  {
   "cell_type": "code",
   "execution_count": 17,
   "metadata": {},
   "outputs": [],
   "source": [
    "import pandas as pd\n",
    "from sklearn.naive_bayes import GaussianNB\n",
    "from sklearn.preprocessing import LabelEncoder\n",
    "from scipy.stats import chi2_contingency\n",
    "from sklearn.feature_extraction.text import TfidfVectorizer\n",
    "from sklearn.model_selection import train_test_split\n",
    "from sklearn.naive_bayes import MultinomialNB\n",
    "from sklearn.metrics import accuracy_score, classification_report\n",
    "from sklearn.feature_extraction.text import CountVectorizer"
   ]
  },
  {
   "cell_type": "markdown",
   "metadata": {},
   "source": [
    "A1"
   ]
  },
  {
   "cell_type": "code",
   "execution_count": 2,
   "metadata": {},
   "outputs": [
    {
     "name": "stdout",
     "output_type": "stream",
     "text": [
      "Prior Probability for buys_computer = no: 0.35714285714285715\n",
      "Prior Probability for buys_computer = yes: 0.6428571428571429\n"
     ]
    }
   ],
   "source": [
    "data = pd.DataFrame({\n",
    "    'age': ['<=30', '<=30', '31…40', '>40', '>40', '>40', '31…40', '<=30', '<=30', '>40', '<=30', '31…40', '31…40', '>40'],\n",
    "    'income': ['high', 'high', 'high', 'medium', 'low', 'low', 'low', 'medium', 'low', 'medium', 'medium', 'medium', 'high', 'medium'],\n",
    "    'student': ['no', 'no', 'no', 'no', 'yes', 'yes', 'yes', 'no', 'yes', 'yes', 'yes', 'no', 'yes', 'no'],\n",
    "    'credit_rating': ['fair', 'excellent', 'fair', 'fair', 'fair', 'excellent', 'excellent', 'fair', 'fair', 'fair', 'excellent', 'excellent', 'fair', 'excellent'],\n",
    "    'buys_computer': ['no', 'no', 'yes', 'yes', 'yes', 'no', 'yes', 'no', 'yes', 'yes', 'yes', 'yes', 'yes', 'no']\n",
    "})\n",
    "\n",
    "#calculate prior probabilities\n",
    "prior_no = data[data['buys_computer'] == 'no'].shape[0] / data.shape[0]\n",
    "prior_yes = data[data['buys_computer'] == 'yes'].shape[0] / data.shape[0]\n",
    "\n",
    "print(\"Prior Probability for buys_computer = no:\", prior_no)\n",
    "print(\"Prior Probability for buys_computer = yes:\", prior_yes)"
   ]
  },
  {
   "cell_type": "markdown",
   "metadata": {},
   "source": [
    "A2"
   ]
  },
  {
   "cell_type": "code",
   "execution_count": 3,
   "metadata": {},
   "outputs": [],
   "source": [
    "data_encoded = pd.get_dummies(data[['age', 'income', 'student', 'credit_rating']])"
   ]
  },
  {
   "cell_type": "code",
   "execution_count": 4,
   "metadata": {},
   "outputs": [],
   "source": [
    "label_encoder = LabelEncoder()\n",
    "data['buys_computer'] = label_encoder.fit_transform(data['buys_computer'])"
   ]
  },
  {
   "cell_type": "code",
   "execution_count": 5,
   "metadata": {},
   "outputs": [],
   "source": [
    "Tr_X = pd.concat([data_encoded, data['buys_computer']], axis=1)\n",
    "Tr_y = data['buys_computer']"
   ]
  },
  {
   "cell_type": "code",
   "execution_count": 6,
   "metadata": {},
   "outputs": [
    {
     "data": {
      "text/html": [
       "<style>#sk-container-id-1 {color: black;background-color: white;}#sk-container-id-1 pre{padding: 0;}#sk-container-id-1 div.sk-toggleable {background-color: white;}#sk-container-id-1 label.sk-toggleable__label {cursor: pointer;display: block;width: 100%;margin-bottom: 0;padding: 0.3em;box-sizing: border-box;text-align: center;}#sk-container-id-1 label.sk-toggleable__label-arrow:before {content: \"▸\";float: left;margin-right: 0.25em;color: #696969;}#sk-container-id-1 label.sk-toggleable__label-arrow:hover:before {color: black;}#sk-container-id-1 div.sk-estimator:hover label.sk-toggleable__label-arrow:before {color: black;}#sk-container-id-1 div.sk-toggleable__content {max-height: 0;max-width: 0;overflow: hidden;text-align: left;background-color: #f0f8ff;}#sk-container-id-1 div.sk-toggleable__content pre {margin: 0.2em;color: black;border-radius: 0.25em;background-color: #f0f8ff;}#sk-container-id-1 input.sk-toggleable__control:checked~div.sk-toggleable__content {max-height: 200px;max-width: 100%;overflow: auto;}#sk-container-id-1 input.sk-toggleable__control:checked~label.sk-toggleable__label-arrow:before {content: \"▾\";}#sk-container-id-1 div.sk-estimator input.sk-toggleable__control:checked~label.sk-toggleable__label {background-color: #d4ebff;}#sk-container-id-1 div.sk-label input.sk-toggleable__control:checked~label.sk-toggleable__label {background-color: #d4ebff;}#sk-container-id-1 input.sk-hidden--visually {border: 0;clip: rect(1px 1px 1px 1px);clip: rect(1px, 1px, 1px, 1px);height: 1px;margin: -1px;overflow: hidden;padding: 0;position: absolute;width: 1px;}#sk-container-id-1 div.sk-estimator {font-family: monospace;background-color: #f0f8ff;border: 1px dotted black;border-radius: 0.25em;box-sizing: border-box;margin-bottom: 0.5em;}#sk-container-id-1 div.sk-estimator:hover {background-color: #d4ebff;}#sk-container-id-1 div.sk-parallel-item::after {content: \"\";width: 100%;border-bottom: 1px solid gray;flex-grow: 1;}#sk-container-id-1 div.sk-label:hover label.sk-toggleable__label {background-color: #d4ebff;}#sk-container-id-1 div.sk-serial::before {content: \"\";position: absolute;border-left: 1px solid gray;box-sizing: border-box;top: 0;bottom: 0;left: 50%;z-index: 0;}#sk-container-id-1 div.sk-serial {display: flex;flex-direction: column;align-items: center;background-color: white;padding-right: 0.2em;padding-left: 0.2em;position: relative;}#sk-container-id-1 div.sk-item {position: relative;z-index: 1;}#sk-container-id-1 div.sk-parallel {display: flex;align-items: stretch;justify-content: center;background-color: white;position: relative;}#sk-container-id-1 div.sk-item::before, #sk-container-id-1 div.sk-parallel-item::before {content: \"\";position: absolute;border-left: 1px solid gray;box-sizing: border-box;top: 0;bottom: 0;left: 50%;z-index: -1;}#sk-container-id-1 div.sk-parallel-item {display: flex;flex-direction: column;z-index: 1;position: relative;background-color: white;}#sk-container-id-1 div.sk-parallel-item:first-child::after {align-self: flex-end;width: 50%;}#sk-container-id-1 div.sk-parallel-item:last-child::after {align-self: flex-start;width: 50%;}#sk-container-id-1 div.sk-parallel-item:only-child::after {width: 0;}#sk-container-id-1 div.sk-dashed-wrapped {border: 1px dashed gray;margin: 0 0.4em 0.5em 0.4em;box-sizing: border-box;padding-bottom: 0.4em;background-color: white;}#sk-container-id-1 div.sk-label label {font-family: monospace;font-weight: bold;display: inline-block;line-height: 1.2em;}#sk-container-id-1 div.sk-label-container {text-align: center;}#sk-container-id-1 div.sk-container {/* jupyter's `normalize.less` sets `[hidden] { display: none; }` but bootstrap.min.css set `[hidden] { display: none !important; }` so we also need the `!important` here to be able to override the default hidden behavior on the sphinx rendered scikit-learn.org. See: https://github.com/scikit-learn/scikit-learn/issues/21755 */display: inline-block !important;position: relative;}#sk-container-id-1 div.sk-text-repr-fallback {display: none;}</style><div id=\"sk-container-id-1\" class=\"sk-top-container\"><div class=\"sk-text-repr-fallback\"><pre>GaussianNB()</pre><b>In a Jupyter environment, please rerun this cell to show the HTML representation or trust the notebook. <br />On GitHub, the HTML representation is unable to render, please try loading this page with nbviewer.org.</b></div><div class=\"sk-container\" hidden><div class=\"sk-item\"><div class=\"sk-estimator sk-toggleable\"><input class=\"sk-toggleable__control sk-hidden--visually\" id=\"sk-estimator-id-1\" type=\"checkbox\" checked><label for=\"sk-estimator-id-1\" class=\"sk-toggleable__label sk-toggleable__label-arrow\">GaussianNB</label><div class=\"sk-toggleable__content\"><pre>GaussianNB()</pre></div></div></div></div></div>"
      ],
      "text/plain": [
       "GaussianNB()"
      ]
     },
     "execution_count": 6,
     "metadata": {},
     "output_type": "execute_result"
    }
   ],
   "source": [
    "model = GaussianNB()\n",
    "model.fit(Tr_X, Tr_y)"
   ]
  },
  {
   "cell_type": "code",
   "execution_count": 7,
   "metadata": {},
   "outputs": [
    {
     "name": "stdout",
     "output_type": "stream",
     "text": [
      "Class Conditional Densities:\n",
      "\n",
      "Class: 0\n",
      "Feature: age_31…40\n",
      "Mean: 0.0\n",
      "Feature: age_<=30\n",
      "Mean: 0.6\n",
      "Feature: age_>40\n",
      "Mean: 0.4\n",
      "Feature: income_high\n",
      "Mean: 0.4\n",
      "Feature: income_low\n",
      "Mean: 0.2\n",
      "Feature: income_medium\n",
      "Mean: 0.4\n",
      "Feature: student_no\n",
      "Mean: 0.8\n",
      "Feature: student_yes\n",
      "Mean: 0.2\n",
      "Feature: credit_rating_excellent\n",
      "Mean: 0.6\n",
      "Feature: credit_rating_fair\n",
      "Mean: 0.4\n",
      "Feature: buys_computer\n",
      "Mean: 0.0\n",
      "\n",
      "Class: 1\n",
      "Feature: age_31…40\n",
      "Mean: 0.4444444444444444\n",
      "Feature: age_<=30\n",
      "Mean: 0.2222222222222222\n",
      "Feature: age_>40\n",
      "Mean: 0.3333333333333333\n",
      "Feature: income_high\n",
      "Mean: 0.2222222222222222\n",
      "Feature: income_low\n",
      "Mean: 0.3333333333333333\n",
      "Feature: income_medium\n",
      "Mean: 0.4444444444444444\n",
      "Feature: student_no\n",
      "Mean: 0.3333333333333333\n",
      "Feature: student_yes\n",
      "Mean: 0.6666666666666666\n",
      "Feature: credit_rating_excellent\n",
      "Mean: 0.3333333333333333\n",
      "Feature: credit_rating_fair\n",
      "Mean: 0.6666666666666666\n",
      "Feature: buys_computer\n",
      "Mean: 1.0\n"
     ]
    }
   ],
   "source": [
    "print(\"Class Conditional Densities:\")\n",
    "for label, means in zip(model.classes_, model.theta_):\n",
    "    print(f\"\\nClass: {label}\")\n",
    "    for feature, mean in zip(Tr_X.columns, means):\n",
    "        print(f\"Feature: {feature}\")\n",
    "        print(f\"Mean: {mean}\")"
   ]
  },
  {
   "cell_type": "markdown",
   "metadata": {},
   "source": [
    "A3"
   ]
  },
  {
   "cell_type": "code",
   "execution_count": 8,
   "metadata": {},
   "outputs": [],
   "source": [
    "contingency_table = pd.crosstab(data['age'], [data['income'], data['student'], data['credit_rating']])"
   ]
  },
  {
   "cell_type": "code",
   "execution_count": 9,
   "metadata": {},
   "outputs": [],
   "source": [
    "chi2, p, _, _ = chi2_contingency(contingency_table)"
   ]
  },
  {
   "cell_type": "code",
   "execution_count": 10,
   "metadata": {},
   "outputs": [
    {
     "name": "stdout",
     "output_type": "stream",
     "text": [
      "Chi-square value: 12.95\n",
      "P-value: 0.6764100579553458\n"
     ]
    }
   ],
   "source": [
    "print(f\"Chi-square value: {chi2}\")\n",
    "print(f\"P-value: {p}\")"
   ]
  },
  {
   "cell_type": "code",
   "execution_count": 11,
   "metadata": {},
   "outputs": [
    {
     "name": "stdout",
     "output_type": "stream",
     "text": [
      "There is no significant association between the features.\n"
     ]
    }
   ],
   "source": [
    "alpha = 0.05\n",
    "if p < alpha:\n",
    "    print(\"There is a significant association between the features.\")\n",
    "else:\n",
    "    print(\"There is no significant association between the features.\")"
   ]
  },
  {
   "cell_type": "code",
   "execution_count": 12,
   "metadata": {},
   "outputs": [
    {
     "data": {
      "text/html": [
       "<div>\n",
       "<style scoped>\n",
       "    .dataframe tbody tr th:only-of-type {\n",
       "        vertical-align: middle;\n",
       "    }\n",
       "\n",
       "    .dataframe tbody tr th {\n",
       "        vertical-align: top;\n",
       "    }\n",
       "\n",
       "    .dataframe thead th {\n",
       "        text-align: right;\n",
       "    }\n",
       "</style>\n",
       "<table border=\"1\" class=\"dataframe\">\n",
       "  <thead>\n",
       "    <tr style=\"text-align: right;\">\n",
       "      <th></th>\n",
       "      <th>Id</th>\n",
       "      <th>Judgment</th>\n",
       "      <th>Lawyers Summary</th>\n",
       "      <th>Golden summary</th>\n",
       "      <th>Domain</th>\n",
       "      <th>Judgment Status</th>\n",
       "      <th>Equivalent Citation</th>\n",
       "      <th>Name</th>\n",
       "      <th>Court name</th>\n",
       "      <th>Label</th>\n",
       "      <th>Link</th>\n",
       "    </tr>\n",
       "  </thead>\n",
       "  <tbody>\n",
       "    <tr>\n",
       "      <th>0</th>\n",
       "      <td>1</td>\n",
       "      <td>\"1. Being aggrieved by the judgment delivered ...</td>\n",
       "      <td>\"The appeal was filed by a co-operative socie...</td>\n",
       "      <td>\"The appellant, a cooperative society, filed a...</td>\n",
       "      <td>Civil</td>\n",
       "      <td>Appeal dismissed</td>\n",
       "      <td>CIVIL APPEAL NO. 3880 OF 2003</td>\n",
       "      <td>Rajasthan R.S.S. &amp; Ginning Mills Fed.Ltd Vs. D...</td>\n",
       "      <td>Supreme Court</td>\n",
       "      <td>0</td>\n",
       "      <td>NaN</td>\n",
       "    </tr>\n",
       "    <tr>\n",
       "      <th>1</th>\n",
       "      <td>2</td>\n",
       "      <td>\"This was an appeal from a judgment and decree...</td>\n",
       "      <td>A complaint has been lodged against you, unde...</td>\n",
       "      <td>\"The appellants were members of the East India...</td>\n",
       "      <td>Civil</td>\n",
       "      <td>Appeal dismissed</td>\n",
       "      <td>1950 AIR, 7 1950 SCR 64</td>\n",
       "      <td>Messrs. Khimji Poonja And Company vs Shri Bald...</td>\n",
       "      <td>Supreme Court</td>\n",
       "      <td>0</td>\n",
       "      <td>NaN</td>\n",
       "    </tr>\n",
       "    <tr>\n",
       "      <th>2</th>\n",
       "      <td>3</td>\n",
       "      <td>\"This was an application under article 32 (1) ...</td>\n",
       "      <td>Appeal comes under article 374 (4) of the Con...</td>\n",
       "      <td>\"Petitioner Rashid Ahmed is running a wholesal...</td>\n",
       "      <td>Civil</td>\n",
       "      <td>Petition allowed</td>\n",
       "      <td>1950 AIR 163, 1950 SCR 566</td>\n",
       "      <td>Rashid Ahmed vs The Municipal Board, Kairana.T...</td>\n",
       "      <td>Supreme Court</td>\n",
       "      <td>0</td>\n",
       "      <td>NaN</td>\n",
       "    </tr>\n",
       "    <tr>\n",
       "      <th>3</th>\n",
       "      <td>4</td>\n",
       "      <td>\"APPEAL from a judgment of the High Court of H...</td>\n",
       "      <td>The appeal was presented to the Judicial Commi...</td>\n",
       "      <td>\"The decree-holder made an application in revi...</td>\n",
       "      <td>Civil</td>\n",
       "      <td>Appeal allowed</td>\n",
       "      <td>1953 AIR 413, 1950 SCR 747</td>\n",
       "      <td>Supreme Court Of India ... vs Kadar Unnisa Beg...</td>\n",
       "      <td>Supreme Court</td>\n",
       "      <td>0</td>\n",
       "      <td>NaN</td>\n",
       "    </tr>\n",
       "    <tr>\n",
       "      <th>4</th>\n",
       "      <td>5</td>\n",
       "      <td>\"APPEAL under article 374(4) of the Constituti...</td>\n",
       "      <td>The appeal was presented to the Judicial Commi...</td>\n",
       "      <td>\"An application was made for the execution of...</td>\n",
       "      <td>Civil</td>\n",
       "      <td>Appeal allowed</td>\n",
       "      <td>1950 AIR 274, 1950 SCR 741</td>\n",
       "      <td>Supreme Court Of India ... vs Nandlal on 12 O...</td>\n",
       "      <td>Supreme Court</td>\n",
       "      <td>0</td>\n",
       "      <td>NaN</td>\n",
       "    </tr>\n",
       "    <tr>\n",
       "      <th>...</th>\n",
       "      <td>...</td>\n",
       "      <td>...</td>\n",
       "      <td>...</td>\n",
       "      <td>...</td>\n",
       "      <td>...</td>\n",
       "      <td>...</td>\n",
       "      <td>...</td>\n",
       "      <td>...</td>\n",
       "      <td>...</td>\n",
       "      <td>...</td>\n",
       "      <td>...</td>\n",
       "    </tr>\n",
       "    <tr>\n",
       "      <th>895</th>\n",
       "      <td>896</td>\n",
       "      <td>documents in column 3 thereof. The petitioner ...</td>\n",
       "      <td></td>\n",
       "      <td></td>\n",
       "      <td>Writ</td>\n",
       "      <td>NaN</td>\n",
       "      <td>NaN</td>\n",
       "      <td>NaN</td>\n",
       "      <td>Calcutta High Court</td>\n",
       "      <td>2</td>\n",
       "      <td>NaN</td>\n",
       "    </tr>\n",
       "    <tr>\n",
       "      <th>896</th>\n",
       "      <td>897</td>\n",
       "      <td>for such unauthorised construction before the ...</td>\n",
       "      <td></td>\n",
       "      <td></td>\n",
       "      <td>Civil</td>\n",
       "      <td>NaN</td>\n",
       "      <td>NaN</td>\n",
       "      <td>NaN</td>\n",
       "      <td>Calcutta High Court</td>\n",
       "      <td>0</td>\n",
       "      <td>NaN</td>\n",
       "    </tr>\n",
       "    <tr>\n",
       "      <th>897</th>\n",
       "      <td>898</td>\n",
       "      <td>Mr. Jayanta Kr. Mitra, Sr. Advocate with Mr. R...</td>\n",
       "      <td></td>\n",
       "      <td></td>\n",
       "      <td>Writ</td>\n",
       "      <td>NaN</td>\n",
       "      <td>NaN</td>\n",
       "      <td>NaN</td>\n",
       "      <td>Calcutta High Court</td>\n",
       "      <td>2</td>\n",
       "      <td>NaN</td>\n",
       "    </tr>\n",
       "    <tr>\n",
       "      <th>898</th>\n",
       "      <td>899</td>\n",
       "      <td>Considering the averments contained in the app...</td>\n",
       "      <td></td>\n",
       "      <td></td>\n",
       "      <td>Revision Petition</td>\n",
       "      <td>NaN</td>\n",
       "      <td>NaN</td>\n",
       "      <td>NaN</td>\n",
       "      <td>Calcutta High Court</td>\n",
       "      <td>5</td>\n",
       "      <td>NaN</td>\n",
       "    </tr>\n",
       "    <tr>\n",
       "      <th>899</th>\n",
       "      <td>900</td>\n",
       "      <td>The Court: By order dated 26th July, 2013, an ...</td>\n",
       "      <td></td>\n",
       "      <td></td>\n",
       "      <td>Writ</td>\n",
       "      <td>NaN</td>\n",
       "      <td>NaN</td>\n",
       "      <td>NaN</td>\n",
       "      <td>Calcutta High Court</td>\n",
       "      <td>2</td>\n",
       "      <td>NaN</td>\n",
       "    </tr>\n",
       "  </tbody>\n",
       "</table>\n",
       "<p>900 rows × 11 columns</p>\n",
       "</div>"
      ],
      "text/plain": [
       "      Id                                           Judgment  \\\n",
       "0      1  \"1. Being aggrieved by the judgment delivered ...   \n",
       "1      2  \"This was an appeal from a judgment and decree...   \n",
       "2      3  \"This was an application under article 32 (1) ...   \n",
       "3      4  \"APPEAL from a judgment of the High Court of H...   \n",
       "4      5  \"APPEAL under article 374(4) of the Constituti...   \n",
       "..   ...                                                ...   \n",
       "895  896  documents in column 3 thereof. The petitioner ...   \n",
       "896  897  for such unauthorised construction before the ...   \n",
       "897  898  Mr. Jayanta Kr. Mitra, Sr. Advocate with Mr. R...   \n",
       "898  899  Considering the averments contained in the app...   \n",
       "899  900  The Court: By order dated 26th July, 2013, an ...   \n",
       "\n",
       "                                       Lawyers Summary  \\\n",
       "0     \"The appeal was filed by a co-operative socie...   \n",
       "1     A complaint has been lodged against you, unde...   \n",
       "2     Appeal comes under article 374 (4) of the Con...   \n",
       "3    The appeal was presented to the Judicial Commi...   \n",
       "4    The appeal was presented to the Judicial Commi...   \n",
       "..                                                 ...   \n",
       "895                                                      \n",
       "896                                                      \n",
       "897                                                      \n",
       "898                                                      \n",
       "899                                                      \n",
       "\n",
       "                                        Golden summary             Domain  \\\n",
       "0    \"The appellant, a cooperative society, filed a...              Civil   \n",
       "1    \"The appellants were members of the East India...              Civil   \n",
       "2    \"Petitioner Rashid Ahmed is running a wholesal...              Civil   \n",
       "3    \"The decree-holder made an application in revi...              Civil   \n",
       "4     \"An application was made for the execution of...              Civil   \n",
       "..                                                 ...                ...   \n",
       "895                                                                  Writ   \n",
       "896                                                                 Civil   \n",
       "897                                                                  Writ   \n",
       "898                                                     Revision Petition   \n",
       "899                                                                  Writ   \n",
       "\n",
       "      Judgment Status             Equivalent Citation  \\\n",
       "0    Appeal dismissed   CIVIL APPEAL NO. 3880 OF 2003   \n",
       "1    Appeal dismissed         1950 AIR, 7 1950 SCR 64   \n",
       "2    Petition allowed      1950 AIR 163, 1950 SCR 566   \n",
       "3      Appeal allowed      1953 AIR 413, 1950 SCR 747   \n",
       "4      Appeal allowed      1950 AIR 274, 1950 SCR 741   \n",
       "..                ...                             ...   \n",
       "895               NaN                             NaN   \n",
       "896               NaN                             NaN   \n",
       "897               NaN                             NaN   \n",
       "898               NaN                             NaN   \n",
       "899               NaN                             NaN   \n",
       "\n",
       "                                                  Name           Court name  \\\n",
       "0    Rajasthan R.S.S. & Ginning Mills Fed.Ltd Vs. D...        Supreme Court   \n",
       "1    Messrs. Khimji Poonja And Company vs Shri Bald...        Supreme Court   \n",
       "2    Rashid Ahmed vs The Municipal Board, Kairana.T...        Supreme Court   \n",
       "3    Supreme Court Of India ... vs Kadar Unnisa Beg...        Supreme Court   \n",
       "4     Supreme Court Of India ... vs Nandlal on 12 O...        Supreme Court   \n",
       "..                                                 ...                  ...   \n",
       "895                                                NaN  Calcutta High Court   \n",
       "896                                                NaN  Calcutta High Court   \n",
       "897                                                NaN  Calcutta High Court   \n",
       "898                                                NaN  Calcutta High Court   \n",
       "899                                                NaN  Calcutta High Court   \n",
       "\n",
       "     Label  Link  \n",
       "0        0   NaN  \n",
       "1        0   NaN  \n",
       "2        0   NaN  \n",
       "3        0   NaN  \n",
       "4        0   NaN  \n",
       "..     ...   ...  \n",
       "895      2   NaN  \n",
       "896      0   NaN  \n",
       "897      2   NaN  \n",
       "898      5   NaN  \n",
       "899      2   NaN  \n",
       "\n",
       "[900 rows x 11 columns]"
      ]
     },
     "execution_count": 12,
     "metadata": {},
     "output_type": "execute_result"
    }
   ],
   "source": [
    "pdata = pd.read_excel('Dataset_to_ B.tech.xlsx')\n",
    "pdata"
   ]
  },
  {
   "cell_type": "code",
   "execution_count": 19,
   "metadata": {},
   "outputs": [],
   "source": [
    "pdata['Lawyers Summary'] = pdata['Lawyers Summary'].fillna('')"
   ]
  },
  {
   "cell_type": "code",
   "execution_count": 20,
   "metadata": {},
   "outputs": [],
   "source": [
    "X = pdata['Lawyers Summary']\n",
    "y = pdata['Label']"
   ]
  },
  {
   "cell_type": "code",
   "execution_count": 21,
   "metadata": {},
   "outputs": [],
   "source": [
    "X_train, X_test, y_train, y_test = train_test_split(X, y, test_size=0.2, random_state=42)"
   ]
  },
  {
   "cell_type": "code",
   "execution_count": 22,
   "metadata": {},
   "outputs": [],
   "source": [
    "vectorizer = CountVectorizer()\n",
    "X_train_vectorized = vectorizer.fit_transform(X_train)\n",
    "X_test_vectorized = vectorizer.transform(X_test)"
   ]
  },
  {
   "cell_type": "code",
   "execution_count": 23,
   "metadata": {},
   "outputs": [],
   "source": [
    "naive_bayes_classifier = MultinomialNB()"
   ]
  },
  {
   "cell_type": "code",
   "execution_count": 24,
   "metadata": {},
   "outputs": [
    {
     "data": {
      "text/html": [
       "<style>#sk-container-id-2 {color: black;background-color: white;}#sk-container-id-2 pre{padding: 0;}#sk-container-id-2 div.sk-toggleable {background-color: white;}#sk-container-id-2 label.sk-toggleable__label {cursor: pointer;display: block;width: 100%;margin-bottom: 0;padding: 0.3em;box-sizing: border-box;text-align: center;}#sk-container-id-2 label.sk-toggleable__label-arrow:before {content: \"▸\";float: left;margin-right: 0.25em;color: #696969;}#sk-container-id-2 label.sk-toggleable__label-arrow:hover:before {color: black;}#sk-container-id-2 div.sk-estimator:hover label.sk-toggleable__label-arrow:before {color: black;}#sk-container-id-2 div.sk-toggleable__content {max-height: 0;max-width: 0;overflow: hidden;text-align: left;background-color: #f0f8ff;}#sk-container-id-2 div.sk-toggleable__content pre {margin: 0.2em;color: black;border-radius: 0.25em;background-color: #f0f8ff;}#sk-container-id-2 input.sk-toggleable__control:checked~div.sk-toggleable__content {max-height: 200px;max-width: 100%;overflow: auto;}#sk-container-id-2 input.sk-toggleable__control:checked~label.sk-toggleable__label-arrow:before {content: \"▾\";}#sk-container-id-2 div.sk-estimator input.sk-toggleable__control:checked~label.sk-toggleable__label {background-color: #d4ebff;}#sk-container-id-2 div.sk-label input.sk-toggleable__control:checked~label.sk-toggleable__label {background-color: #d4ebff;}#sk-container-id-2 input.sk-hidden--visually {border: 0;clip: rect(1px 1px 1px 1px);clip: rect(1px, 1px, 1px, 1px);height: 1px;margin: -1px;overflow: hidden;padding: 0;position: absolute;width: 1px;}#sk-container-id-2 div.sk-estimator {font-family: monospace;background-color: #f0f8ff;border: 1px dotted black;border-radius: 0.25em;box-sizing: border-box;margin-bottom: 0.5em;}#sk-container-id-2 div.sk-estimator:hover {background-color: #d4ebff;}#sk-container-id-2 div.sk-parallel-item::after {content: \"\";width: 100%;border-bottom: 1px solid gray;flex-grow: 1;}#sk-container-id-2 div.sk-label:hover label.sk-toggleable__label {background-color: #d4ebff;}#sk-container-id-2 div.sk-serial::before {content: \"\";position: absolute;border-left: 1px solid gray;box-sizing: border-box;top: 0;bottom: 0;left: 50%;z-index: 0;}#sk-container-id-2 div.sk-serial {display: flex;flex-direction: column;align-items: center;background-color: white;padding-right: 0.2em;padding-left: 0.2em;position: relative;}#sk-container-id-2 div.sk-item {position: relative;z-index: 1;}#sk-container-id-2 div.sk-parallel {display: flex;align-items: stretch;justify-content: center;background-color: white;position: relative;}#sk-container-id-2 div.sk-item::before, #sk-container-id-2 div.sk-parallel-item::before {content: \"\";position: absolute;border-left: 1px solid gray;box-sizing: border-box;top: 0;bottom: 0;left: 50%;z-index: -1;}#sk-container-id-2 div.sk-parallel-item {display: flex;flex-direction: column;z-index: 1;position: relative;background-color: white;}#sk-container-id-2 div.sk-parallel-item:first-child::after {align-self: flex-end;width: 50%;}#sk-container-id-2 div.sk-parallel-item:last-child::after {align-self: flex-start;width: 50%;}#sk-container-id-2 div.sk-parallel-item:only-child::after {width: 0;}#sk-container-id-2 div.sk-dashed-wrapped {border: 1px dashed gray;margin: 0 0.4em 0.5em 0.4em;box-sizing: border-box;padding-bottom: 0.4em;background-color: white;}#sk-container-id-2 div.sk-label label {font-family: monospace;font-weight: bold;display: inline-block;line-height: 1.2em;}#sk-container-id-2 div.sk-label-container {text-align: center;}#sk-container-id-2 div.sk-container {/* jupyter's `normalize.less` sets `[hidden] { display: none; }` but bootstrap.min.css set `[hidden] { display: none !important; }` so we also need the `!important` here to be able to override the default hidden behavior on the sphinx rendered scikit-learn.org. See: https://github.com/scikit-learn/scikit-learn/issues/21755 */display: inline-block !important;position: relative;}#sk-container-id-2 div.sk-text-repr-fallback {display: none;}</style><div id=\"sk-container-id-2\" class=\"sk-top-container\"><div class=\"sk-text-repr-fallback\"><pre>MultinomialNB()</pre><b>In a Jupyter environment, please rerun this cell to show the HTML representation or trust the notebook. <br />On GitHub, the HTML representation is unable to render, please try loading this page with nbviewer.org.</b></div><div class=\"sk-container\" hidden><div class=\"sk-item\"><div class=\"sk-estimator sk-toggleable\"><input class=\"sk-toggleable__control sk-hidden--visually\" id=\"sk-estimator-id-2\" type=\"checkbox\" checked><label for=\"sk-estimator-id-2\" class=\"sk-toggleable__label sk-toggleable__label-arrow\">MultinomialNB</label><div class=\"sk-toggleable__content\"><pre>MultinomialNB()</pre></div></div></div></div></div>"
      ],
      "text/plain": [
       "MultinomialNB()"
      ]
     },
     "execution_count": 24,
     "metadata": {},
     "output_type": "execute_result"
    }
   ],
   "source": [
    "naive_bayes_classifier.fit(X_train_vectorized, y_train)"
   ]
  },
  {
   "cell_type": "code",
   "execution_count": 25,
   "metadata": {},
   "outputs": [
    {
     "data": {
      "text/plain": [
       "array([0, 0, 1, 0, 0, 0, 0, 0, 1, 0, 0, 0, 0, 0, 0, 0, 0, 0, 0, 0, 1, 0,\n",
       "       0, 0, 0, 0, 0, 0, 0, 0, 1, 0, 0, 0, 0, 0, 0, 0, 0, 1, 0, 0, 0, 0,\n",
       "       0, 0, 1, 0, 0, 0, 0, 0, 0, 0, 1, 1, 1, 0, 0, 0, 0, 0, 0, 0, 1, 1,\n",
       "       0, 0, 0, 0, 0, 0, 0, 0, 1, 0, 0, 0, 1, 0, 0, 1, 0, 0, 0, 0, 0, 0,\n",
       "       1, 0, 0, 0, 0, 0, 0, 0, 0, 0, 0, 0, 0, 0, 0, 0, 0, 1, 0, 1, 0, 1,\n",
       "       0, 0, 0, 0, 0, 0, 0, 0, 0, 0, 0, 0, 1, 0, 0, 0, 0, 0, 0, 0, 0, 0,\n",
       "       0, 0, 0, 0, 0, 0, 0, 1, 1, 0, 0, 0, 0, 1, 0, 0, 0, 0, 0, 0, 0, 0,\n",
       "       0, 0, 0, 0, 0, 1, 0, 0, 0, 0, 0, 0, 0, 0, 0, 0, 0, 0, 0, 0, 0, 0,\n",
       "       0, 0, 0, 0], dtype=int64)"
      ]
     },
     "execution_count": 25,
     "metadata": {},
     "output_type": "execute_result"
    }
   ],
   "source": [
    "y_pred = naive_bayes_classifier.predict(X_test_vectorized)\n",
    "y_pred"
   ]
  },
  {
   "cell_type": "code",
   "execution_count": 26,
   "metadata": {},
   "outputs": [
    {
     "name": "stdout",
     "output_type": "stream",
     "text": [
      "Accuracy: 0.48333333333333334\n"
     ]
    }
   ],
   "source": [
    "accuracy = accuracy_score(y_test, y_pred)\n",
    "print(f\"Accuracy: {accuracy}\")"
   ]
  },
  {
   "cell_type": "code",
   "execution_count": 27,
   "metadata": {},
   "outputs": [
    {
     "name": "stdout",
     "output_type": "stream",
     "text": [
      "Classification Report:\n",
      "              precision    recall  f1-score   support\n",
      "\n",
      "           0       0.43      0.99      0.60        68\n",
      "           1       0.87      0.38      0.53        52\n",
      "           2       0.00      0.00      0.00        23\n",
      "           3       0.00      0.00      0.00         3\n",
      "           4       0.00      0.00      0.00         5\n",
      "           5       0.00      0.00      0.00        12\n",
      "           6       0.00      0.00      0.00         4\n",
      "           7       0.00      0.00      0.00         2\n",
      "           8       0.00      0.00      0.00         1\n",
      "           9       0.00      0.00      0.00         6\n",
      "          10       0.00      0.00      0.00         4\n",
      "\n",
      "    accuracy                           0.48       180\n",
      "   macro avg       0.12      0.12      0.10       180\n",
      "weighted avg       0.41      0.48      0.38       180\n",
      "\n"
     ]
    },
    {
     "name": "stderr",
     "output_type": "stream",
     "text": [
      "C:\\Users\\anany\\AppData\\Roaming\\Python\\Python310\\site-packages\\sklearn\\metrics\\_classification.py:1344: UndefinedMetricWarning: Precision and F-score are ill-defined and being set to 0.0 in labels with no predicted samples. Use `zero_division` parameter to control this behavior.\n",
      "  _warn_prf(average, modifier, msg_start, len(result))\n",
      "C:\\Users\\anany\\AppData\\Roaming\\Python\\Python310\\site-packages\\sklearn\\metrics\\_classification.py:1344: UndefinedMetricWarning: Precision and F-score are ill-defined and being set to 0.0 in labels with no predicted samples. Use `zero_division` parameter to control this behavior.\n",
      "  _warn_prf(average, modifier, msg_start, len(result))\n",
      "C:\\Users\\anany\\AppData\\Roaming\\Python\\Python310\\site-packages\\sklearn\\metrics\\_classification.py:1344: UndefinedMetricWarning: Precision and F-score are ill-defined and being set to 0.0 in labels with no predicted samples. Use `zero_division` parameter to control this behavior.\n",
      "  _warn_prf(average, modifier, msg_start, len(result))\n"
     ]
    }
   ],
   "source": [
    "classification_report_output = classification_report(y_test, y_pred)\n",
    "print(\"Classification Report:\")\n",
    "print(classification_report_output)"
   ]
  }
 ],
 "metadata": {
  "kernelspec": {
   "display_name": "Python 3",
   "language": "python",
   "name": "python3"
  },
  "language_info": {
   "codemirror_mode": {
    "name": "ipython",
    "version": 3
   },
   "file_extension": ".py",
   "mimetype": "text/x-python",
   "name": "python",
   "nbconvert_exporter": "python",
   "pygments_lexer": "ipython3",
   "version": "3.10.8"
  }
 },
 "nbformat": 4,
 "nbformat_minor": 2
}
