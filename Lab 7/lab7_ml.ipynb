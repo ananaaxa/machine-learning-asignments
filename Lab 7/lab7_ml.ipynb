{
 "cells": [
  {
   "cell_type": "code",
   "execution_count": 17,
   "metadata": {},
   "outputs": [],
   "source": [
    "import pandas as pd\n",
    "from sklearn.model_selection import train_test_split\n",
    "from sklearn.feature_extraction.text import TfidfVectorizer\n",
    "from sklearn import svm\n",
    "from sklearn.svm import SVC\n",
    "from sklearn.preprocessing import LabelEncoder"
   ]
  },
  {
   "cell_type": "code",
   "execution_count": 4,
   "metadata": {},
   "outputs": [
    {
     "data": {
      "text/html": [
       "<div>\n",
       "<style scoped>\n",
       "    .dataframe tbody tr th:only-of-type {\n",
       "        vertical-align: middle;\n",
       "    }\n",
       "\n",
       "    .dataframe tbody tr th {\n",
       "        vertical-align: top;\n",
       "    }\n",
       "\n",
       "    .dataframe thead th {\n",
       "        text-align: right;\n",
       "    }\n",
       "</style>\n",
       "<table border=\"1\" class=\"dataframe\">\n",
       "  <thead>\n",
       "    <tr style=\"text-align: right;\">\n",
       "      <th></th>\n",
       "      <th>Id</th>\n",
       "      <th>Judgment</th>\n",
       "      <th>Lawyers Summary</th>\n",
       "      <th>Golden summary</th>\n",
       "      <th>Domain</th>\n",
       "      <th>Judgment Status</th>\n",
       "      <th>Equivalent Citation</th>\n",
       "      <th>Name</th>\n",
       "      <th>Court name</th>\n",
       "      <th>Label</th>\n",
       "      <th>Link</th>\n",
       "    </tr>\n",
       "  </thead>\n",
       "  <tbody>\n",
       "    <tr>\n",
       "      <th>0</th>\n",
       "      <td>1</td>\n",
       "      <td>\"1. Being aggrieved by the judgment delivered ...</td>\n",
       "      <td>\"The appeal was filed by a co-operative socie...</td>\n",
       "      <td>\"The appellant, a cooperative society, filed a...</td>\n",
       "      <td>Civil</td>\n",
       "      <td>Appeal dismissed</td>\n",
       "      <td>CIVIL APPEAL NO. 3880 OF 2003</td>\n",
       "      <td>Rajasthan R.S.S. &amp; Ginning Mills Fed.Ltd Vs. D...</td>\n",
       "      <td>Supreme Court</td>\n",
       "      <td>0</td>\n",
       "      <td>NaN</td>\n",
       "    </tr>\n",
       "    <tr>\n",
       "      <th>1</th>\n",
       "      <td>2</td>\n",
       "      <td>\"This was an appeal from a judgment and decree...</td>\n",
       "      <td>A complaint has been lodged against you, unde...</td>\n",
       "      <td>\"The appellants were members of the East India...</td>\n",
       "      <td>Civil</td>\n",
       "      <td>Appeal dismissed</td>\n",
       "      <td>1950 AIR, 7 1950 SCR 64</td>\n",
       "      <td>Messrs. Khimji Poonja And Company vs Shri Bald...</td>\n",
       "      <td>Supreme Court</td>\n",
       "      <td>0</td>\n",
       "      <td>NaN</td>\n",
       "    </tr>\n",
       "    <tr>\n",
       "      <th>2</th>\n",
       "      <td>3</td>\n",
       "      <td>\"This was an application under article 32 (1) ...</td>\n",
       "      <td>Appeal comes under article 374 (4) of the Con...</td>\n",
       "      <td>\"Petitioner Rashid Ahmed is running a wholesal...</td>\n",
       "      <td>Civil</td>\n",
       "      <td>Petition allowed</td>\n",
       "      <td>1950 AIR 163, 1950 SCR 566</td>\n",
       "      <td>Rashid Ahmed vs The Municipal Board, Kairana.T...</td>\n",
       "      <td>Supreme Court</td>\n",
       "      <td>0</td>\n",
       "      <td>NaN</td>\n",
       "    </tr>\n",
       "    <tr>\n",
       "      <th>3</th>\n",
       "      <td>4</td>\n",
       "      <td>\"APPEAL from a judgment of the High Court of H...</td>\n",
       "      <td>The appeal was presented to the Judicial Commi...</td>\n",
       "      <td>\"The decree-holder made an application in revi...</td>\n",
       "      <td>Civil</td>\n",
       "      <td>Appeal allowed</td>\n",
       "      <td>1953 AIR 413, 1950 SCR 747</td>\n",
       "      <td>Supreme Court Of India ... vs Kadar Unnisa Beg...</td>\n",
       "      <td>Supreme Court</td>\n",
       "      <td>0</td>\n",
       "      <td>NaN</td>\n",
       "    </tr>\n",
       "    <tr>\n",
       "      <th>4</th>\n",
       "      <td>5</td>\n",
       "      <td>\"APPEAL under article 374(4) of the Constituti...</td>\n",
       "      <td>The appeal was presented to the Judicial Commi...</td>\n",
       "      <td>\"An application was made for the execution of...</td>\n",
       "      <td>Civil</td>\n",
       "      <td>Appeal allowed</td>\n",
       "      <td>1950 AIR 274, 1950 SCR 741</td>\n",
       "      <td>Supreme Court Of India ... vs Nandlal on 12 O...</td>\n",
       "      <td>Supreme Court</td>\n",
       "      <td>0</td>\n",
       "      <td>NaN</td>\n",
       "    </tr>\n",
       "    <tr>\n",
       "      <th>...</th>\n",
       "      <td>...</td>\n",
       "      <td>...</td>\n",
       "      <td>...</td>\n",
       "      <td>...</td>\n",
       "      <td>...</td>\n",
       "      <td>...</td>\n",
       "      <td>...</td>\n",
       "      <td>...</td>\n",
       "      <td>...</td>\n",
       "      <td>...</td>\n",
       "      <td>...</td>\n",
       "    </tr>\n",
       "    <tr>\n",
       "      <th>895</th>\n",
       "      <td>896</td>\n",
       "      <td>documents in column 3 thereof. The petitioner ...</td>\n",
       "      <td></td>\n",
       "      <td></td>\n",
       "      <td>Writ</td>\n",
       "      <td>NaN</td>\n",
       "      <td>NaN</td>\n",
       "      <td>NaN</td>\n",
       "      <td>Calcutta High Court</td>\n",
       "      <td>2</td>\n",
       "      <td>NaN</td>\n",
       "    </tr>\n",
       "    <tr>\n",
       "      <th>896</th>\n",
       "      <td>897</td>\n",
       "      <td>for such unauthorised construction before the ...</td>\n",
       "      <td></td>\n",
       "      <td></td>\n",
       "      <td>Civil</td>\n",
       "      <td>NaN</td>\n",
       "      <td>NaN</td>\n",
       "      <td>NaN</td>\n",
       "      <td>Calcutta High Court</td>\n",
       "      <td>0</td>\n",
       "      <td>NaN</td>\n",
       "    </tr>\n",
       "    <tr>\n",
       "      <th>897</th>\n",
       "      <td>898</td>\n",
       "      <td>Mr. Jayanta Kr. Mitra, Sr. Advocate with Mr. R...</td>\n",
       "      <td></td>\n",
       "      <td></td>\n",
       "      <td>Writ</td>\n",
       "      <td>NaN</td>\n",
       "      <td>NaN</td>\n",
       "      <td>NaN</td>\n",
       "      <td>Calcutta High Court</td>\n",
       "      <td>2</td>\n",
       "      <td>NaN</td>\n",
       "    </tr>\n",
       "    <tr>\n",
       "      <th>898</th>\n",
       "      <td>899</td>\n",
       "      <td>Considering the averments contained in the app...</td>\n",
       "      <td></td>\n",
       "      <td></td>\n",
       "      <td>Revision Petition</td>\n",
       "      <td>NaN</td>\n",
       "      <td>NaN</td>\n",
       "      <td>NaN</td>\n",
       "      <td>Calcutta High Court</td>\n",
       "      <td>5</td>\n",
       "      <td>NaN</td>\n",
       "    </tr>\n",
       "    <tr>\n",
       "      <th>899</th>\n",
       "      <td>900</td>\n",
       "      <td>The Court: By order dated 26th July, 2013, an ...</td>\n",
       "      <td></td>\n",
       "      <td></td>\n",
       "      <td>Writ</td>\n",
       "      <td>NaN</td>\n",
       "      <td>NaN</td>\n",
       "      <td>NaN</td>\n",
       "      <td>Calcutta High Court</td>\n",
       "      <td>2</td>\n",
       "      <td>NaN</td>\n",
       "    </tr>\n",
       "  </tbody>\n",
       "</table>\n",
       "<p>900 rows × 11 columns</p>\n",
       "</div>"
      ],
      "text/plain": [
       "      Id                                           Judgment  \\\n",
       "0      1  \"1. Being aggrieved by the judgment delivered ...   \n",
       "1      2  \"This was an appeal from a judgment and decree...   \n",
       "2      3  \"This was an application under article 32 (1) ...   \n",
       "3      4  \"APPEAL from a judgment of the High Court of H...   \n",
       "4      5  \"APPEAL under article 374(4) of the Constituti...   \n",
       "..   ...                                                ...   \n",
       "895  896  documents in column 3 thereof. The petitioner ...   \n",
       "896  897  for such unauthorised construction before the ...   \n",
       "897  898  Mr. Jayanta Kr. Mitra, Sr. Advocate with Mr. R...   \n",
       "898  899  Considering the averments contained in the app...   \n",
       "899  900  The Court: By order dated 26th July, 2013, an ...   \n",
       "\n",
       "                                       Lawyers Summary  \\\n",
       "0     \"The appeal was filed by a co-operative socie...   \n",
       "1     A complaint has been lodged against you, unde...   \n",
       "2     Appeal comes under article 374 (4) of the Con...   \n",
       "3    The appeal was presented to the Judicial Commi...   \n",
       "4    The appeal was presented to the Judicial Commi...   \n",
       "..                                                 ...   \n",
       "895                                                      \n",
       "896                                                      \n",
       "897                                                      \n",
       "898                                                      \n",
       "899                                                      \n",
       "\n",
       "                                        Golden summary             Domain  \\\n",
       "0    \"The appellant, a cooperative society, filed a...              Civil   \n",
       "1    \"The appellants were members of the East India...              Civil   \n",
       "2    \"Petitioner Rashid Ahmed is running a wholesal...              Civil   \n",
       "3    \"The decree-holder made an application in revi...              Civil   \n",
       "4     \"An application was made for the execution of...              Civil   \n",
       "..                                                 ...                ...   \n",
       "895                                                                  Writ   \n",
       "896                                                                 Civil   \n",
       "897                                                                  Writ   \n",
       "898                                                     Revision Petition   \n",
       "899                                                                  Writ   \n",
       "\n",
       "      Judgment Status             Equivalent Citation  \\\n",
       "0    Appeal dismissed   CIVIL APPEAL NO. 3880 OF 2003   \n",
       "1    Appeal dismissed         1950 AIR, 7 1950 SCR 64   \n",
       "2    Petition allowed      1950 AIR 163, 1950 SCR 566   \n",
       "3      Appeal allowed      1953 AIR 413, 1950 SCR 747   \n",
       "4      Appeal allowed      1950 AIR 274, 1950 SCR 741   \n",
       "..                ...                             ...   \n",
       "895               NaN                             NaN   \n",
       "896               NaN                             NaN   \n",
       "897               NaN                             NaN   \n",
       "898               NaN                             NaN   \n",
       "899               NaN                             NaN   \n",
       "\n",
       "                                                  Name           Court name  \\\n",
       "0    Rajasthan R.S.S. & Ginning Mills Fed.Ltd Vs. D...        Supreme Court   \n",
       "1    Messrs. Khimji Poonja And Company vs Shri Bald...        Supreme Court   \n",
       "2    Rashid Ahmed vs The Municipal Board, Kairana.T...        Supreme Court   \n",
       "3    Supreme Court Of India ... vs Kadar Unnisa Beg...        Supreme Court   \n",
       "4     Supreme Court Of India ... vs Nandlal on 12 O...        Supreme Court   \n",
       "..                                                 ...                  ...   \n",
       "895                                                NaN  Calcutta High Court   \n",
       "896                                                NaN  Calcutta High Court   \n",
       "897                                                NaN  Calcutta High Court   \n",
       "898                                                NaN  Calcutta High Court   \n",
       "899                                                NaN  Calcutta High Court   \n",
       "\n",
       "     Label  Link  \n",
       "0        0   NaN  \n",
       "1        0   NaN  \n",
       "2        0   NaN  \n",
       "3        0   NaN  \n",
       "4        0   NaN  \n",
       "..     ...   ...  \n",
       "895      2   NaN  \n",
       "896      0   NaN  \n",
       "897      2   NaN  \n",
       "898      5   NaN  \n",
       "899      2   NaN  \n",
       "\n",
       "[900 rows x 11 columns]"
      ]
     },
     "execution_count": 4,
     "metadata": {},
     "output_type": "execute_result"
    }
   ],
   "source": [
    "data = pd.read_excel('Dataset_to_ B.tech.xlsx')\n",
    "data"
   ]
  },
  {
   "cell_type": "code",
   "execution_count": 5,
   "metadata": {},
   "outputs": [
    {
     "data": {
      "text/plain": [
       "Index(['Id', 'Judgment', 'Lawyers Summary', 'Golden summary', 'Domain',\n",
       "       'Judgment Status', 'Equivalent Citation', 'Name', 'Court name', 'Label',\n",
       "       'Link'],\n",
       "      dtype='object')"
      ]
     },
     "execution_count": 5,
     "metadata": {},
     "output_type": "execute_result"
    }
   ],
   "source": [
    "data.columns"
   ]
  },
  {
   "cell_type": "code",
   "execution_count": 12,
   "metadata": {},
   "outputs": [],
   "source": [
    "tfidf_vectorizer = TfidfVectorizer(stop_words='english')\n",
    "X = tfidf_vectorizer.fit_transform(data['Judgment'])"
   ]
  },
  {
   "cell_type": "code",
   "execution_count": 15,
   "metadata": {},
   "outputs": [],
   "source": [
    "label_encoder = LabelEncoder()\n",
    "y = label_encoder.fit_transform(data['Label'])"
   ]
  },
  {
   "cell_type": "code",
   "execution_count": 16,
   "metadata": {},
   "outputs": [],
   "source": [
    "X_train, X_test, y_train, y_test = train_test_split(X, y, test_size=0.2, random_state=42)"
   ]
  },
  {
   "cell_type": "markdown",
   "metadata": {},
   "source": [
    "### A1"
   ]
  },
  {
   "cell_type": "code",
   "execution_count": 21,
   "metadata": {},
   "outputs": [
    {
     "data": {
      "text/html": [
       "<style>#sk-container-id-2 {color: black;background-color: white;}#sk-container-id-2 pre{padding: 0;}#sk-container-id-2 div.sk-toggleable {background-color: white;}#sk-container-id-2 label.sk-toggleable__label {cursor: pointer;display: block;width: 100%;margin-bottom: 0;padding: 0.3em;box-sizing: border-box;text-align: center;}#sk-container-id-2 label.sk-toggleable__label-arrow:before {content: \"▸\";float: left;margin-right: 0.25em;color: #696969;}#sk-container-id-2 label.sk-toggleable__label-arrow:hover:before {color: black;}#sk-container-id-2 div.sk-estimator:hover label.sk-toggleable__label-arrow:before {color: black;}#sk-container-id-2 div.sk-toggleable__content {max-height: 0;max-width: 0;overflow: hidden;text-align: left;background-color: #f0f8ff;}#sk-container-id-2 div.sk-toggleable__content pre {margin: 0.2em;color: black;border-radius: 0.25em;background-color: #f0f8ff;}#sk-container-id-2 input.sk-toggleable__control:checked~div.sk-toggleable__content {max-height: 200px;max-width: 100%;overflow: auto;}#sk-container-id-2 input.sk-toggleable__control:checked~label.sk-toggleable__label-arrow:before {content: \"▾\";}#sk-container-id-2 div.sk-estimator input.sk-toggleable__control:checked~label.sk-toggleable__label {background-color: #d4ebff;}#sk-container-id-2 div.sk-label input.sk-toggleable__control:checked~label.sk-toggleable__label {background-color: #d4ebff;}#sk-container-id-2 input.sk-hidden--visually {border: 0;clip: rect(1px 1px 1px 1px);clip: rect(1px, 1px, 1px, 1px);height: 1px;margin: -1px;overflow: hidden;padding: 0;position: absolute;width: 1px;}#sk-container-id-2 div.sk-estimator {font-family: monospace;background-color: #f0f8ff;border: 1px dotted black;border-radius: 0.25em;box-sizing: border-box;margin-bottom: 0.5em;}#sk-container-id-2 div.sk-estimator:hover {background-color: #d4ebff;}#sk-container-id-2 div.sk-parallel-item::after {content: \"\";width: 100%;border-bottom: 1px solid gray;flex-grow: 1;}#sk-container-id-2 div.sk-label:hover label.sk-toggleable__label {background-color: #d4ebff;}#sk-container-id-2 div.sk-serial::before {content: \"\";position: absolute;border-left: 1px solid gray;box-sizing: border-box;top: 0;bottom: 0;left: 50%;z-index: 0;}#sk-container-id-2 div.sk-serial {display: flex;flex-direction: column;align-items: center;background-color: white;padding-right: 0.2em;padding-left: 0.2em;position: relative;}#sk-container-id-2 div.sk-item {position: relative;z-index: 1;}#sk-container-id-2 div.sk-parallel {display: flex;align-items: stretch;justify-content: center;background-color: white;position: relative;}#sk-container-id-2 div.sk-item::before, #sk-container-id-2 div.sk-parallel-item::before {content: \"\";position: absolute;border-left: 1px solid gray;box-sizing: border-box;top: 0;bottom: 0;left: 50%;z-index: -1;}#sk-container-id-2 div.sk-parallel-item {display: flex;flex-direction: column;z-index: 1;position: relative;background-color: white;}#sk-container-id-2 div.sk-parallel-item:first-child::after {align-self: flex-end;width: 50%;}#sk-container-id-2 div.sk-parallel-item:last-child::after {align-self: flex-start;width: 50%;}#sk-container-id-2 div.sk-parallel-item:only-child::after {width: 0;}#sk-container-id-2 div.sk-dashed-wrapped {border: 1px dashed gray;margin: 0 0.4em 0.5em 0.4em;box-sizing: border-box;padding-bottom: 0.4em;background-color: white;}#sk-container-id-2 div.sk-label label {font-family: monospace;font-weight: bold;display: inline-block;line-height: 1.2em;}#sk-container-id-2 div.sk-label-container {text-align: center;}#sk-container-id-2 div.sk-container {/* jupyter's `normalize.less` sets `[hidden] { display: none; }` but bootstrap.min.css set `[hidden] { display: none !important; }` so we also need the `!important` here to be able to override the default hidden behavior on the sphinx rendered scikit-learn.org. See: https://github.com/scikit-learn/scikit-learn/issues/21755 */display: inline-block !important;position: relative;}#sk-container-id-2 div.sk-text-repr-fallback {display: none;}</style><div id=\"sk-container-id-2\" class=\"sk-top-container\"><div class=\"sk-text-repr-fallback\"><pre>SVC()</pre><b>In a Jupyter environment, please rerun this cell to show the HTML representation or trust the notebook. <br />On GitHub, the HTML representation is unable to render, please try loading this page with nbviewer.org.</b></div><div class=\"sk-container\" hidden><div class=\"sk-item\"><div class=\"sk-estimator sk-toggleable\"><input class=\"sk-toggleable__control sk-hidden--visually\" id=\"sk-estimator-id-2\" type=\"checkbox\" checked><label for=\"sk-estimator-id-2\" class=\"sk-toggleable__label sk-toggleable__label-arrow\">SVC</label><div class=\"sk-toggleable__content\"><pre>SVC()</pre></div></div></div></div></div>"
      ],
      "text/plain": [
       "SVC()"
      ]
     },
     "execution_count": 21,
     "metadata": {},
     "output_type": "execute_result"
    }
   ],
   "source": [
    "clf = svm.SVC()\n",
    "\n",
    "# Train the classifier using the training set\n",
    "clf.fit(X_train, y_train)"
   ]
  },
  {
   "cell_type": "code",
   "execution_count": 22,
   "metadata": {},
   "outputs": [
    {
     "name": "stdout",
     "output_type": "stream",
     "text": [
      "Support Vectors:\n",
      "  (0, 24)\t0.027513541626665382\n",
      "  (0, 32)\t0.01918528381520072\n",
      "  (0, 41)\t0.04834218701571104\n",
      "  (0, 65)\t0.04892750746921889\n",
      "  (0, 96)\t0.05895279072426637\n",
      "  (0, 143)\t0.01998069483871937\n",
      "  (0, 148)\t0.0599420845161581\n",
      "  (0, 154)\t0.00990687564829225\n",
      "  (0, 279)\t0.0133428755391479\n",
      "  (0, 396)\t0.004416299919371362\n",
      "  (0, 550)\t0.01292784848486916\n",
      "  (0, 626)\t0.005069254044325037\n",
      "  (0, 629)\t0.022068959406894965\n",
      "  (0, 698)\t0.005356990843383423\n",
      "  (0, 803)\t0.0057414310324719105\n",
      "  (0, 824)\t0.033525417679623214\n",
      "  (0, 892)\t0.011891359149221558\n",
      "  (0, 1010)\t0.017958140699938594\n",
      "  (0, 1012)\t0.024767520394562814\n",
      "  (0, 1016)\t0.025546732331638136\n",
      "  (0, 1040)\t0.005560109255708715\n",
      "  (0, 1042)\t0.03073601114987635\n",
      "  (0, 1046)\t0.015538180637695284\n",
      "  (0, 1047)\t0.008255840131520939\n",
      "  (0, 1048)\t0.061582783712587845\n",
      "  :\t:\n",
      "  (472, 28100)\t0.015564959350902142\n",
      "  (472, 28312)\t0.015249693993265482\n",
      "  (472, 28381)\t0.022784063681500124\n",
      "  (472, 28438)\t0.0068618057849373785\n",
      "  (472, 28471)\t0.018657609078510086\n",
      "  (472, 28474)\t0.013681312312218575\n",
      "  (472, 28611)\t0.004479358705114139\n",
      "  (472, 28838)\t0.08880575278005183\n",
      "  (472, 28842)\t0.031820586956048925\n",
      "  (472, 28921)\t0.048288428171815126\n",
      "  (472, 28925)\t0.1272823478241957\n",
      "  (472, 29012)\t0.02425317159289593\n",
      "  (472, 29032)\t0.007173006906670074\n",
      "  (472, 29037)\t0.01231147817047387\n",
      "  (472, 29145)\t0.016718801904661285\n",
      "  (472, 29484)\t0.048557293810645275\n",
      "  (472, 29715)\t0.006802649108771108\n",
      "  (472, 30075)\t0.011752949264403723\n",
      "  (472, 30119)\t0.012961950464573744\n",
      "  (472, 30205)\t0.02819170287901267\n",
      "  (472, 30226)\t0.021741715030151047\n",
      "  (472, 30239)\t0.02425317159289593\n",
      "  (472, 30560)\t0.014691165087195333\n",
      "  (472, 30697)\t0.012663528269729381\n",
      "  (472, 30810)\t0.03703965240972292\n"
     ]
    }
   ],
   "source": [
    "# Get the support vectors\n",
    "support_vectors = clf.support_vectors_\n",
    "print(\"Support Vectors:\")\n",
    "print(support_vectors)"
   ]
  },
  {
   "cell_type": "markdown",
   "metadata": {},
   "source": [
    "### A2"
   ]
  },
  {
   "cell_type": "code",
   "execution_count": 23,
   "metadata": {},
   "outputs": [
    {
     "name": "stdout",
     "output_type": "stream",
     "text": [
      "Accuracy: 0.6554621848739496\n"
     ]
    }
   ],
   "source": [
    "accuracy = clf.score(X_test, y_test)\n",
    "print(\"Accuracy:\", accuracy)"
   ]
  },
  {
   "cell_type": "markdown",
   "metadata": {},
   "source": [
    "### A3"
   ]
  },
  {
   "cell_type": "code",
   "execution_count": 24,
   "metadata": {},
   "outputs": [],
   "source": [
    "predictions = clf.predict(X_test)"
   ]
  },
  {
   "cell_type": "code",
   "execution_count": 25,
   "metadata": {},
   "outputs": [
    {
     "name": "stdout",
     "output_type": "stream",
     "text": [
      "True Class: 0, Predicted Class: 0\n",
      "True Class: 0, Predicted Class: 0\n",
      "True Class: 1, Predicted Class: 1\n",
      "True Class: 2, Predicted Class: 0\n",
      "True Class: 1, Predicted Class: 1\n",
      "True Class: 1, Predicted Class: 1\n",
      "True Class: 0, Predicted Class: 0\n",
      "True Class: 0, Predicted Class: 1\n",
      "True Class: 0, Predicted Class: 0\n",
      "True Class: 1, Predicted Class: 1\n",
      "True Class: 0, Predicted Class: 0\n",
      "True Class: 1, Predicted Class: 1\n",
      "True Class: 0, Predicted Class: 0\n",
      "True Class: 0, Predicted Class: 0\n",
      "True Class: 0, Predicted Class: 1\n",
      "True Class: 2, Predicted Class: 0\n",
      "True Class: 0, Predicted Class: 0\n",
      "True Class: 2, Predicted Class: 0\n",
      "True Class: 1, Predicted Class: 1\n",
      "True Class: 0, Predicted Class: 0\n",
      "True Class: 0, Predicted Class: 0\n",
      "True Class: 0, Predicted Class: 0\n",
      "True Class: 7, Predicted Class: 0\n",
      "True Class: 0, Predicted Class: 0\n",
      "True Class: 0, Predicted Class: 0\n",
      "True Class: 2, Predicted Class: 0\n",
      "True Class: 8, Predicted Class: 0\n",
      "True Class: 1, Predicted Class: 1\n",
      "True Class: 2, Predicted Class: 0\n",
      "True Class: 0, Predicted Class: 0\n",
      "True Class: 2, Predicted Class: 0\n",
      "True Class: 0, Predicted Class: 0\n",
      "True Class: 0, Predicted Class: 0\n",
      "True Class: 1, Predicted Class: 1\n",
      "True Class: 2, Predicted Class: 0\n",
      "True Class: 0, Predicted Class: 0\n",
      "True Class: 1, Predicted Class: 0\n",
      "True Class: 1, Predicted Class: 1\n",
      "True Class: 5, Predicted Class: 0\n",
      "True Class: 1, Predicted Class: 1\n",
      "True Class: 0, Predicted Class: 1\n",
      "True Class: 1, Predicted Class: 1\n",
      "True Class: 0, Predicted Class: 0\n",
      "True Class: 1, Predicted Class: 1\n",
      "True Class: 4, Predicted Class: 0\n",
      "True Class: 5, Predicted Class: 0\n",
      "True Class: 1, Predicted Class: 0\n",
      "True Class: 2, Predicted Class: 0\n",
      "True Class: 0, Predicted Class: 0\n",
      "True Class: 5, Predicted Class: 0\n",
      "True Class: 0, Predicted Class: 0\n",
      "True Class: 0, Predicted Class: 0\n",
      "True Class: 5, Predicted Class: 0\n",
      "True Class: 1, Predicted Class: 1\n",
      "True Class: 0, Predicted Class: 0\n",
      "True Class: 5, Predicted Class: 1\n",
      "True Class: 0, Predicted Class: 0\n",
      "True Class: 5, Predicted Class: 0\n",
      "True Class: 0, Predicted Class: 0\n",
      "True Class: 1, Predicted Class: 1\n",
      "True Class: 5, Predicted Class: 0\n",
      "True Class: 1, Predicted Class: 1\n",
      "True Class: 2, Predicted Class: 0\n",
      "True Class: 2, Predicted Class: 0\n",
      "True Class: 1, Predicted Class: 0\n",
      "True Class: 1, Predicted Class: 0\n",
      "True Class: 0, Predicted Class: 0\n",
      "True Class: 1, Predicted Class: 0\n",
      "True Class: 1, Predicted Class: 1\n",
      "True Class: 0, Predicted Class: 0\n",
      "True Class: 0, Predicted Class: 0\n",
      "True Class: 1, Predicted Class: 1\n",
      "True Class: 0, Predicted Class: 0\n",
      "True Class: 0, Predicted Class: 0\n",
      "True Class: 1, Predicted Class: 1\n",
      "True Class: 1, Predicted Class: 1\n",
      "True Class: 1, Predicted Class: 1\n",
      "True Class: 1, Predicted Class: 0\n",
      "True Class: 1, Predicted Class: 1\n",
      "True Class: 0, Predicted Class: 0\n",
      "True Class: 1, Predicted Class: 1\n",
      "True Class: 1, Predicted Class: 1\n",
      "True Class: 0, Predicted Class: 0\n",
      "True Class: 0, Predicted Class: 0\n",
      "True Class: 2, Predicted Class: 0\n",
      "True Class: 1, Predicted Class: 0\n",
      "True Class: 1, Predicted Class: 1\n",
      "True Class: 1, Predicted Class: 1\n",
      "True Class: 0, Predicted Class: 0\n",
      "True Class: 1, Predicted Class: 1\n",
      "True Class: 0, Predicted Class: 0\n",
      "True Class: 0, Predicted Class: 0\n",
      "True Class: 0, Predicted Class: 0\n",
      "True Class: 2, Predicted Class: 0\n",
      "True Class: 0, Predicted Class: 0\n",
      "True Class: 1, Predicted Class: 0\n",
      "True Class: 1, Predicted Class: 1\n",
      "True Class: 0, Predicted Class: 0\n",
      "True Class: 1, Predicted Class: 0\n",
      "True Class: 2, Predicted Class: 0\n",
      "True Class: 2, Predicted Class: 0\n",
      "True Class: 2, Predicted Class: 0\n",
      "True Class: 0, Predicted Class: 0\n",
      "True Class: 0, Predicted Class: 0\n",
      "True Class: 1, Predicted Class: 0\n",
      "True Class: 0, Predicted Class: 0\n",
      "True Class: 2, Predicted Class: 0\n",
      "True Class: 1, Predicted Class: 1\n",
      "True Class: 0, Predicted Class: 0\n",
      "True Class: 0, Predicted Class: 0\n",
      "True Class: 0, Predicted Class: 0\n",
      "True Class: 0, Predicted Class: 0\n",
      "True Class: 1, Predicted Class: 0\n",
      "True Class: 1, Predicted Class: 0\n",
      "True Class: 0, Predicted Class: 0\n",
      "True Class: 0, Predicted Class: 0\n",
      "True Class: 0, Predicted Class: 0\n",
      "True Class: 0, Predicted Class: 0\n",
      "True Class: 0, Predicted Class: 0\n"
     ]
    }
   ],
   "source": [
    "for i in range(len(y_test)):\n",
    "    print(f\"True Class: {y_test[i]}, Predicted Class: {predictions[i]}\")"
   ]
  },
  {
   "cell_type": "code",
   "execution_count": 26,
   "metadata": {},
   "outputs": [
    {
     "name": "stdout",
     "output_type": "stream",
     "text": [
      "Manual Accuracy: 0.6554621848739496\n"
     ]
    }
   ],
   "source": [
    "correct_predictions = (predictions == y_test).sum()\n",
    "total_predictions = len(y_test)\n",
    "manual_accuracy = correct_predictions / total_predictions\n",
    "print(\"Manual Accuracy:\", manual_accuracy)"
   ]
  },
  {
   "cell_type": "markdown",
   "metadata": {},
   "source": [
    "### A4"
   ]
  },
  {
   "cell_type": "code",
   "execution_count": 27,
   "metadata": {},
   "outputs": [
    {
     "name": "stdout",
     "output_type": "stream",
     "text": [
      "Accuracy (Linear): 0.6722689075630253\n"
     ]
    }
   ],
   "source": [
    "# Linear kernel\n",
    "clf_linear = svm.SVC(kernel='linear')\n",
    "clf_linear.fit(X_train, y_train)\n",
    "\n",
    "accuracy_linear = clf_linear.score(X_test, y_test)\n",
    "\n",
    "\n",
    "print(\"Accuracy (Linear):\", accuracy_linear)"
   ]
  },
  {
   "cell_type": "code",
   "execution_count": 28,
   "metadata": {},
   "outputs": [
    {
     "name": "stdout",
     "output_type": "stream",
     "text": [
      "Accuracy (Polynomial): 0.48739495798319327\n"
     ]
    }
   ],
   "source": [
    "# Polynomial kernel\n",
    "clf_poly = svm.SVC(kernel='poly')\n",
    "clf_poly.fit(X_train, y_train)\n",
    "\n",
    "accuracy_poly = clf_poly.score(X_test, y_test)\n",
    "\n",
    "print(\"Accuracy (Polynomial):\", accuracy_poly)"
   ]
  },
  {
   "cell_type": "code",
   "execution_count": 29,
   "metadata": {},
   "outputs": [
    {
     "name": "stdout",
     "output_type": "stream",
     "text": [
      "Accuracy (RBF): 0.6554621848739496\n"
     ]
    }
   ],
   "source": [
    "# Radial basis function (RBF) kernel\n",
    "clf_rbf = svm.SVC(kernel='rbf')\n",
    "clf_rbf.fit(X_train, y_train)\n",
    "\n",
    "accuracy_rbf = clf_rbf.score(X_test, y_test)\n",
    "\n",
    "print(\"Accuracy (RBF):\", accuracy_rbf)"
   ]
  },
  {
   "cell_type": "code",
   "execution_count": 30,
   "metadata": {},
   "outputs": [
    {
     "name": "stdout",
     "output_type": "stream",
     "text": [
      "Accuracy (Sigmoid): 0.6722689075630253\n"
     ]
    }
   ],
   "source": [
    "# Sigmoid kernel\n",
    "clf_sigmoid = svm.SVC(kernel='sigmoid')\n",
    "clf_sigmoid.fit(X_train, y_train)\n",
    "\n",
    "accuracy_sigmoid = clf_sigmoid.score(X_test, y_test)\n",
    "\n",
    "print(\"Accuracy (Sigmoid):\", accuracy_sigmoid)"
   ]
  }
 ],
 "metadata": {
  "kernelspec": {
   "display_name": "Python 3",
   "language": "python",
   "name": "python3"
  },
  "language_info": {
   "codemirror_mode": {
    "name": "ipython",
    "version": 3
   },
   "file_extension": ".py",
   "mimetype": "text/x-python",
   "name": "python",
   "nbconvert_exporter": "python",
   "pygments_lexer": "ipython3",
   "version": "3.10.8"
  }
 },
 "nbformat": 4,
 "nbformat_minor": 2
}
