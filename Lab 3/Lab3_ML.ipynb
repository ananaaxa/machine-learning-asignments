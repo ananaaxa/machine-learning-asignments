{
 "cells": [
  {
   "cell_type": "markdown",
   "metadata": {},
   "source": [
    "IMPORT LIBRARIES"
   ]
  },
  {
   "cell_type": "code",
   "execution_count": 1,
   "metadata": {},
   "outputs": [],
   "source": [
    "import pandas as pd\n",
    "import numpy as np\n",
    "import matplotlib.pyplot as plt\n",
    "from sklearn.model_selection import train_test_split\n",
    "from sklearn.neighbors import KNeighborsClassifier\n",
    "from sklearn.feature_extraction.text import TfidfVectorizer\n",
    "from sklearn.metrics import confusion_matrix, precision_score, recall_score, f1_score"
   ]
  },
  {
   "cell_type": "code",
   "execution_count": 2,
   "metadata": {},
   "outputs": [
    {
     "data": {
      "text/html": [
       "<div>\n",
       "<style scoped>\n",
       "    .dataframe tbody tr th:only-of-type {\n",
       "        vertical-align: middle;\n",
       "    }\n",
       "\n",
       "    .dataframe tbody tr th {\n",
       "        vertical-align: top;\n",
       "    }\n",
       "\n",
       "    .dataframe thead th {\n",
       "        text-align: right;\n",
       "    }\n",
       "</style>\n",
       "<table border=\"1\" class=\"dataframe\">\n",
       "  <thead>\n",
       "    <tr style=\"text-align: right;\">\n",
       "      <th></th>\n",
       "      <th>Id</th>\n",
       "      <th>Judgment</th>\n",
       "      <th>Lawyers Summary</th>\n",
       "      <th>Golden summary</th>\n",
       "      <th>Domain</th>\n",
       "      <th>Judgment Status</th>\n",
       "      <th>Equivalent Citation</th>\n",
       "      <th>Name</th>\n",
       "      <th>Court name</th>\n",
       "      <th>Label</th>\n",
       "      <th>Link</th>\n",
       "    </tr>\n",
       "  </thead>\n",
       "  <tbody>\n",
       "    <tr>\n",
       "      <th>0</th>\n",
       "      <td>1</td>\n",
       "      <td>\"1. Being aggrieved by the judgment delivered ...</td>\n",
       "      <td>\"The appeal was filed by a co-operative socie...</td>\n",
       "      <td>\"The appellant, a cooperative society, filed a...</td>\n",
       "      <td>Civil</td>\n",
       "      <td>Appeal dismissed</td>\n",
       "      <td>CIVIL APPEAL NO. 3880 OF 2003</td>\n",
       "      <td>Rajasthan R.S.S. &amp; Ginning Mills Fed.Ltd Vs. D...</td>\n",
       "      <td>Supreme Court</td>\n",
       "      <td>0</td>\n",
       "      <td>NaN</td>\n",
       "    </tr>\n",
       "    <tr>\n",
       "      <th>1</th>\n",
       "      <td>2</td>\n",
       "      <td>\"This was an appeal from a judgment and decree...</td>\n",
       "      <td>A complaint has been lodged against you, unde...</td>\n",
       "      <td>\"The appellants were members of the East India...</td>\n",
       "      <td>Civil</td>\n",
       "      <td>Appeal dismissed</td>\n",
       "      <td>1950 AIR, 7 1950 SCR 64</td>\n",
       "      <td>Messrs. Khimji Poonja And Company vs Shri Bald...</td>\n",
       "      <td>Supreme Court</td>\n",
       "      <td>0</td>\n",
       "      <td>NaN</td>\n",
       "    </tr>\n",
       "    <tr>\n",
       "      <th>2</th>\n",
       "      <td>3</td>\n",
       "      <td>\"This was an application under article 32 (1) ...</td>\n",
       "      <td>Appeal comes under article 374 (4) of the Con...</td>\n",
       "      <td>\"Petitioner Rashid Ahmed is running a wholesal...</td>\n",
       "      <td>Civil</td>\n",
       "      <td>Petition allowed</td>\n",
       "      <td>1950 AIR 163, 1950 SCR 566</td>\n",
       "      <td>Rashid Ahmed vs The Municipal Board, Kairana.T...</td>\n",
       "      <td>Supreme Court</td>\n",
       "      <td>0</td>\n",
       "      <td>NaN</td>\n",
       "    </tr>\n",
       "    <tr>\n",
       "      <th>3</th>\n",
       "      <td>4</td>\n",
       "      <td>\"APPEAL from a judgment of the High Court of H...</td>\n",
       "      <td>The appeal was presented to the Judicial Commi...</td>\n",
       "      <td>\"The decree-holder made an application in revi...</td>\n",
       "      <td>Civil</td>\n",
       "      <td>Appeal allowed</td>\n",
       "      <td>1953 AIR 413, 1950 SCR 747</td>\n",
       "      <td>Supreme Court Of India ... vs Kadar Unnisa Beg...</td>\n",
       "      <td>Supreme Court</td>\n",
       "      <td>0</td>\n",
       "      <td>NaN</td>\n",
       "    </tr>\n",
       "    <tr>\n",
       "      <th>4</th>\n",
       "      <td>5</td>\n",
       "      <td>\"APPEAL under article 374(4) of the Constituti...</td>\n",
       "      <td>The appeal was presented to the Judicial Commi...</td>\n",
       "      <td>\"An application was made for the execution of...</td>\n",
       "      <td>Civil</td>\n",
       "      <td>Appeal allowed</td>\n",
       "      <td>1950 AIR 274, 1950 SCR 741</td>\n",
       "      <td>Supreme Court Of India ... vs Nandlal on 12 O...</td>\n",
       "      <td>Supreme Court</td>\n",
       "      <td>0</td>\n",
       "      <td>NaN</td>\n",
       "    </tr>\n",
       "    <tr>\n",
       "      <th>...</th>\n",
       "      <td>...</td>\n",
       "      <td>...</td>\n",
       "      <td>...</td>\n",
       "      <td>...</td>\n",
       "      <td>...</td>\n",
       "      <td>...</td>\n",
       "      <td>...</td>\n",
       "      <td>...</td>\n",
       "      <td>...</td>\n",
       "      <td>...</td>\n",
       "      <td>...</td>\n",
       "    </tr>\n",
       "    <tr>\n",
       "      <th>895</th>\n",
       "      <td>896</td>\n",
       "      <td>documents in column 3 thereof. The petitioner ...</td>\n",
       "      <td></td>\n",
       "      <td></td>\n",
       "      <td>Writ</td>\n",
       "      <td>NaN</td>\n",
       "      <td>NaN</td>\n",
       "      <td>NaN</td>\n",
       "      <td>Calcutta High Court</td>\n",
       "      <td>2</td>\n",
       "      <td>NaN</td>\n",
       "    </tr>\n",
       "    <tr>\n",
       "      <th>896</th>\n",
       "      <td>897</td>\n",
       "      <td>for such unauthorised construction before the ...</td>\n",
       "      <td></td>\n",
       "      <td></td>\n",
       "      <td>Civil</td>\n",
       "      <td>NaN</td>\n",
       "      <td>NaN</td>\n",
       "      <td>NaN</td>\n",
       "      <td>Calcutta High Court</td>\n",
       "      <td>0</td>\n",
       "      <td>NaN</td>\n",
       "    </tr>\n",
       "    <tr>\n",
       "      <th>897</th>\n",
       "      <td>898</td>\n",
       "      <td>Mr. Jayanta Kr. Mitra, Sr. Advocate with Mr. R...</td>\n",
       "      <td></td>\n",
       "      <td></td>\n",
       "      <td>Writ</td>\n",
       "      <td>NaN</td>\n",
       "      <td>NaN</td>\n",
       "      <td>NaN</td>\n",
       "      <td>Calcutta High Court</td>\n",
       "      <td>2</td>\n",
       "      <td>NaN</td>\n",
       "    </tr>\n",
       "    <tr>\n",
       "      <th>898</th>\n",
       "      <td>899</td>\n",
       "      <td>Considering the averments contained in the app...</td>\n",
       "      <td></td>\n",
       "      <td></td>\n",
       "      <td>Revision Petition</td>\n",
       "      <td>NaN</td>\n",
       "      <td>NaN</td>\n",
       "      <td>NaN</td>\n",
       "      <td>Calcutta High Court</td>\n",
       "      <td>5</td>\n",
       "      <td>NaN</td>\n",
       "    </tr>\n",
       "    <tr>\n",
       "      <th>899</th>\n",
       "      <td>900</td>\n",
       "      <td>The Court: By order dated 26th July, 2013, an ...</td>\n",
       "      <td></td>\n",
       "      <td></td>\n",
       "      <td>Writ</td>\n",
       "      <td>NaN</td>\n",
       "      <td>NaN</td>\n",
       "      <td>NaN</td>\n",
       "      <td>Calcutta High Court</td>\n",
       "      <td>2</td>\n",
       "      <td>NaN</td>\n",
       "    </tr>\n",
       "  </tbody>\n",
       "</table>\n",
       "<p>900 rows × 11 columns</p>\n",
       "</div>"
      ],
      "text/plain": [
       "      Id                                           Judgment  \\\n",
       "0      1  \"1. Being aggrieved by the judgment delivered ...   \n",
       "1      2  \"This was an appeal from a judgment and decree...   \n",
       "2      3  \"This was an application under article 32 (1) ...   \n",
       "3      4  \"APPEAL from a judgment of the High Court of H...   \n",
       "4      5  \"APPEAL under article 374(4) of the Constituti...   \n",
       "..   ...                                                ...   \n",
       "895  896  documents in column 3 thereof. The petitioner ...   \n",
       "896  897  for such unauthorised construction before the ...   \n",
       "897  898  Mr. Jayanta Kr. Mitra, Sr. Advocate with Mr. R...   \n",
       "898  899  Considering the averments contained in the app...   \n",
       "899  900  The Court: By order dated 26th July, 2013, an ...   \n",
       "\n",
       "                                       Lawyers Summary  \\\n",
       "0     \"The appeal was filed by a co-operative socie...   \n",
       "1     A complaint has been lodged against you, unde...   \n",
       "2     Appeal comes under article 374 (4) of the Con...   \n",
       "3    The appeal was presented to the Judicial Commi...   \n",
       "4    The appeal was presented to the Judicial Commi...   \n",
       "..                                                 ...   \n",
       "895                                                      \n",
       "896                                                      \n",
       "897                                                      \n",
       "898                                                      \n",
       "899                                                      \n",
       "\n",
       "                                        Golden summary             Domain  \\\n",
       "0    \"The appellant, a cooperative society, filed a...              Civil   \n",
       "1    \"The appellants were members of the East India...              Civil   \n",
       "2    \"Petitioner Rashid Ahmed is running a wholesal...              Civil   \n",
       "3    \"The decree-holder made an application in revi...              Civil   \n",
       "4     \"An application was made for the execution of...              Civil   \n",
       "..                                                 ...                ...   \n",
       "895                                                                  Writ   \n",
       "896                                                                 Civil   \n",
       "897                                                                  Writ   \n",
       "898                                                     Revision Petition   \n",
       "899                                                                  Writ   \n",
       "\n",
       "      Judgment Status             Equivalent Citation  \\\n",
       "0    Appeal dismissed   CIVIL APPEAL NO. 3880 OF 2003   \n",
       "1    Appeal dismissed         1950 AIR, 7 1950 SCR 64   \n",
       "2    Petition allowed      1950 AIR 163, 1950 SCR 566   \n",
       "3      Appeal allowed      1953 AIR 413, 1950 SCR 747   \n",
       "4      Appeal allowed      1950 AIR 274, 1950 SCR 741   \n",
       "..                ...                             ...   \n",
       "895               NaN                             NaN   \n",
       "896               NaN                             NaN   \n",
       "897               NaN                             NaN   \n",
       "898               NaN                             NaN   \n",
       "899               NaN                             NaN   \n",
       "\n",
       "                                                  Name           Court name  \\\n",
       "0    Rajasthan R.S.S. & Ginning Mills Fed.Ltd Vs. D...        Supreme Court   \n",
       "1    Messrs. Khimji Poonja And Company vs Shri Bald...        Supreme Court   \n",
       "2    Rashid Ahmed vs The Municipal Board, Kairana.T...        Supreme Court   \n",
       "3    Supreme Court Of India ... vs Kadar Unnisa Beg...        Supreme Court   \n",
       "4     Supreme Court Of India ... vs Nandlal on 12 O...        Supreme Court   \n",
       "..                                                 ...                  ...   \n",
       "895                                                NaN  Calcutta High Court   \n",
       "896                                                NaN  Calcutta High Court   \n",
       "897                                                NaN  Calcutta High Court   \n",
       "898                                                NaN  Calcutta High Court   \n",
       "899                                                NaN  Calcutta High Court   \n",
       "\n",
       "     Label  Link  \n",
       "0        0   NaN  \n",
       "1        0   NaN  \n",
       "2        0   NaN  \n",
       "3        0   NaN  \n",
       "4        0   NaN  \n",
       "..     ...   ...  \n",
       "895      2   NaN  \n",
       "896      0   NaN  \n",
       "897      2   NaN  \n",
       "898      5   NaN  \n",
       "899      2   NaN  \n",
       "\n",
       "[900 rows x 11 columns]"
      ]
     },
     "execution_count": 2,
     "metadata": {},
     "output_type": "execute_result"
    }
   ],
   "source": [
    "data = pd.read_excel(\"Dataset to B.tech.xlsx\")\n",
    "data"
   ]
  },
  {
   "cell_type": "code",
   "execution_count": 3,
   "metadata": {},
   "outputs": [
    {
     "data": {
      "text/plain": [
       "(900, 11)"
      ]
     },
     "execution_count": 3,
     "metadata": {},
     "output_type": "execute_result"
    }
   ],
   "source": [
    "data.shape"
   ]
  },
  {
   "cell_type": "markdown",
   "metadata": {},
   "source": [
    "A1"
   ]
  },
  {
   "cell_type": "code",
   "execution_count": 4,
   "metadata": {},
   "outputs": [
    {
     "name": "stdout",
     "output_type": "stream",
     "text": [
      "Class 1 Centroid:\n",
      " [413.54269972   0.                  nan]\n",
      "Class 2 Centroid:\n",
      " [402.2601626   1.                nan]\n",
      "Class 1 Spread:\n",
      " [289.52646857   0.                  nan]\n",
      "Class 2 Spread:\n",
      " [251.40292013   0.                  nan]\n",
      "Interclass Distance: nan\n"
     ]
    }
   ],
   "source": [
    "class1_data = data[data['Label'] == 'Judgment']\n",
    "class2_data = data[data['Label'] == 'Lawyers Summary']\n",
    "\n",
    "# Extract features and labels from your DataFrame\n",
    "numeric_columns = data.select_dtypes(include=[np.number])  # Select only numeric columns\n",
    "features = numeric_columns.to_numpy()\n",
    "labels = data['Label'].to_numpy()\n",
    "\n",
    "# Calculate class centroids (means)\n",
    "unique_labels = np.unique(labels)\n",
    "n_labels = len(unique_labels)\n",
    "\n",
    "# Create an empty array to hold the mean vector for each label\n",
    "class_centroids = np.empty((n_labels, features.shape[-1]))\n",
    "class_spreads = np.empty((n_labels, features.shape[-1]))\n",
    "\n",
    "for i in range(n_labels):\n",
    "    idxs = labels == unique_labels[i]\n",
    "    class_centroids[i] = np.mean(features[idxs], axis=0)\n",
    "    class_spreads[i] = np.std(features[idxs], axis=0)\n",
    "\n",
    "# Calculate the distance between mean vectors (interclass distance)\n",
    "interclass_distance = np.linalg.norm(class_centroids[0] - class_centroids[1])\n",
    "\n",
    "print(\"Class 1 Centroid:\\n\", class_centroids[0])\n",
    "print(\"Class 2 Centroid:\\n\", class_centroids[1])\n",
    "print(\"Class 1 Spread:\\n\", class_spreads[0])\n",
    "print(\"Class 2 Spread:\\n\", class_spreads[1])\n",
    "print(\"Interclass Distance:\", interclass_distance)"
   ]
  },
  {
   "cell_type": "markdown",
   "metadata": {},
   "source": [
    "A2"
   ]
  },
  {
   "cell_type": "code",
   "execution_count": 5,
   "metadata": {},
   "outputs": [
    {
     "data": {
      "image/png": "[encoded data removed]",
      "text/plain": [
       "<Figure size 432x288 with 1 Axes>"
      ]
     },
     "metadata": {
      "needs_background": "light"
     },
     "output_type": "display_data"
    },
    {
     "name": "stdout",
     "output_type": "stream",
     "text": [
      "Mean: 1.751111111111111\n",
      "Variance: 5.975805215671734\n"
     ]
    }
   ],
   "source": [
    "feature_name = 'Label'\n",
    "\n",
    "# Extract the feature data\n",
    "feature_data = data[feature_name]\n",
    "\n",
    "# Filter out non-numeric values (assuming they are strings)\n",
    "feature_data = feature_data.apply(pd.to_numeric, errors='coerce')\n",
    "feature_data = feature_data.dropna()\n",
    "\n",
    "# histogram\n",
    "plt.hist(feature_data, bins=20, edgecolor='k')  # Adjust the number of bins as needed\n",
    "plt.xlabel(\"Feature Values\")\n",
    "plt.ylabel(\"Frequency\")\n",
    "plt.title(f\"Histogram of {feature_name}\")\n",
    "plt.show()\n",
    "\n",
    "mean_value = feature_data.mean()\n",
    "variance_value = feature_data.var()\n",
    "\n",
    "print(\"Mean:\", mean_value)\n",
    "print(\"Variance:\", variance_value)"
   ]
  },
  {
   "cell_type": "markdown",
   "metadata": {},
   "source": [
    "A3"
   ]
  },
  {
   "cell_type": "code",
   "execution_count": 6,
   "metadata": {},
   "outputs": [
    {
     "data": {
      "image/png": "[encoded data removed]",
      "text/plain": [
       "<Figure size 432x288 with 1 Axes>"
      ]
     },
     "metadata": {
      "needs_background": "light"
     },
     "output_type": "display_data"
    }
   ],
   "source": [
    "feature1 = features[0]\n",
    "feature2 = features[1]\n",
    "\n",
    "# Define a range of r values\n",
    "r_values = range(1, 11)\n",
    "\n",
    "# Calculate Minkowski distances for each r\n",
    "minkowski_distances = []\n",
    "\n",
    "for r in r_values:\n",
    "    dist = np.linalg.norm(feature1 - feature2, ord=r)\n",
    "    minkowski_distances.append(dist)\n",
    "\n",
    "# Plot the distances\n",
    "plt.plot(r_values, minkowski_distances, marker='o')\n",
    "plt.xlabel(\"r Value\")\n",
    "plt.ylabel(\"Minkowski Distance\")\n",
    "plt.title(\"Minkowski Distance vs. r Value\")\n",
    "plt.grid(True)\n",
    "plt.show()"
   ]
  },
  {
   "cell_type": "markdown",
   "metadata": {},
   "source": [
    "A4"
   ]
  },
  {
   "cell_type": "code",
   "execution_count": 7,
   "metadata": {},
   "outputs": [
    {
     "name": "stderr",
     "output_type": "stream",
     "text": [
      "C:\\Users\\anany\\AppData\\Local\\Temp\\ipykernel_11632\\1405947459.py:6: SettingWithCopyWarning: \n",
      "A value is trying to be set on a copy of a slice from a DataFrame.\n",
      "Try using .loc[row_indexer,col_indexer] = value instead\n",
      "\n",
      "See the caveats in the documentation: https://pandas.pydata.org/pandas-docs/stable/user_guide/indexing.html#returning-a-view-versus-a-copy\n",
      "  X_text['Combined_Text'] = X_text['Judgment'].fillna('') + ' ' + X_text['Lawyers Summary'].fillna('')\n"
     ]
    }
   ],
   "source": [
    "#we need to perform text preprocessing and convert the text into numerical representations\n",
    "X_text = data[['Judgment', 'Lawyers Summary']]\n",
    "y = data['Label']\n",
    "\n",
    "#combining text columns into single text column for tfidf processing\n",
    "X_text['Combined_Text'] = X_text['Judgment'].fillna('') + ' ' + X_text['Lawyers Summary'].fillna('')\n",
    "#tfidf vectorization\n",
    "tfidf_vectorizer = TfidfVectorizer(max_features=900)\n",
    "X_tfidf= tfidf_vectorizer.fit_transform(X_text['Combined_Text'])"
   ]
  },
  {
   "cell_type": "code",
   "execution_count": 8,
   "metadata": {},
   "outputs": [],
   "source": [
    "#now we have numerical features\n",
    "#split dataset\n",
    "X_train, X_test, y_train, y_test = train_test_split(X_tfidf, y, test_size=0.3)"
   ]
  },
  {
   "cell_type": "markdown",
   "metadata": {},
   "source": [
    "A5"
   ]
  },
  {
   "cell_type": "code",
   "execution_count": 9,
   "metadata": {},
   "outputs": [
    {
     "data": {
      "text/html": [
       "<style>#sk-container-id-1 {color: black;background-color: white;}#sk-container-id-1 pre{padding: 0;}#sk-container-id-1 div.sk-toggleable {background-color: white;}#sk-container-id-1 label.sk-toggleable__label {cursor: pointer;display: block;width: 100%;margin-bottom: 0;padding: 0.3em;box-sizing: border-box;text-align: center;}#sk-container-id-1 label.sk-toggleable__label-arrow:before {content: \"▸\";float: left;margin-right: 0.25em;color: #696969;}#sk-container-id-1 label.sk-toggleable__label-arrow:hover:before {color: black;}#sk-container-id-1 div.sk-estimator:hover label.sk-toggleable__label-arrow:before {color: black;}#sk-container-id-1 div.sk-toggleable__content {max-height: 0;max-width: 0;overflow: hidden;text-align: left;background-color: #f0f8ff;}#sk-container-id-1 div.sk-toggleable__content pre {margin: 0.2em;color: black;border-radius: 0.25em;background-color: #f0f8ff;}#sk-container-id-1 input.sk-toggleable__control:checked~div.sk-toggleable__content {max-height: 200px;max-width: 100%;overflow: auto;}#sk-container-id-1 input.sk-toggleable__control:checked~label.sk-toggleable__label-arrow:before {content: \"▾\";}#sk-container-id-1 div.sk-estimator input.sk-toggleable__control:checked~label.sk-toggleable__label {background-color: #d4ebff;}#sk-container-id-1 div.sk-label input.sk-toggleable__control:checked~label.sk-toggleable__label {background-color: #d4ebff;}#sk-container-id-1 input.sk-hidden--visually {border: 0;clip: rect(1px 1px 1px 1px);clip: rect(1px, 1px, 1px, 1px);height: 1px;margin: -1px;overflow: hidden;padding: 0;position: absolute;width: 1px;}#sk-container-id-1 div.sk-estimator {font-family: monospace;background-color: #f0f8ff;border: 1px dotted black;border-radius: 0.25em;box-sizing: border-box;margin-bottom: 0.5em;}#sk-container-id-1 div.sk-estimator:hover {background-color: #d4ebff;}#sk-container-id-1 div.sk-parallel-item::after {content: \"\";width: 100%;border-bottom: 1px solid gray;flex-grow: 1;}#sk-container-id-1 div.sk-label:hover label.sk-toggleable__label {background-color: #d4ebff;}#sk-container-id-1 div.sk-serial::before {content: \"\";position: absolute;border-left: 1px solid gray;box-sizing: border-box;top: 0;bottom: 0;left: 50%;z-index: 0;}#sk-container-id-1 div.sk-serial {display: flex;flex-direction: column;align-items: center;background-color: white;padding-right: 0.2em;padding-left: 0.2em;position: relative;}#sk-container-id-1 div.sk-item {position: relative;z-index: 1;}#sk-container-id-1 div.sk-parallel {display: flex;align-items: stretch;justify-content: center;background-color: white;position: relative;}#sk-container-id-1 div.sk-item::before, #sk-container-id-1 div.sk-parallel-item::before {content: \"\";position: absolute;border-left: 1px solid gray;box-sizing: border-box;top: 0;bottom: 0;left: 50%;z-index: -1;}#sk-container-id-1 div.sk-parallel-item {display: flex;flex-direction: column;z-index: 1;position: relative;background-color: white;}#sk-container-id-1 div.sk-parallel-item:first-child::after {align-self: flex-end;width: 50%;}#sk-container-id-1 div.sk-parallel-item:last-child::after {align-self: flex-start;width: 50%;}#sk-container-id-1 div.sk-parallel-item:only-child::after {width: 0;}#sk-container-id-1 div.sk-dashed-wrapped {border: 1px dashed gray;margin: 0 0.4em 0.5em 0.4em;box-sizing: border-box;padding-bottom: 0.4em;background-color: white;}#sk-container-id-1 div.sk-label label {font-family: monospace;font-weight: bold;display: inline-block;line-height: 1.2em;}#sk-container-id-1 div.sk-label-container {text-align: center;}#sk-container-id-1 div.sk-container {/* jupyter's `normalize.less` sets `[hidden] { display: none; }` but bootstrap.min.css set `[hidden] { display: none !important; }` so we also need the `!important` here to be able to override the default hidden behavior on the sphinx rendered scikit-learn.org. See: https://github.com/scikit-learn/scikit-learn/issues/21755 */display: inline-block !important;position: relative;}#sk-container-id-1 div.sk-text-repr-fallback {display: none;}</style><div id=\"sk-container-id-1\" class=\"sk-top-container\"><div class=\"sk-text-repr-fallback\"><pre>KNeighborsClassifier(n_neighbors=3)</pre><b>In a Jupyter environment, please rerun this cell to show the HTML representation or trust the notebook. <br />On GitHub, the HTML representation is unable to render, please try loading this page with nbviewer.org.</b></div><div class=\"sk-container\" hidden><div class=\"sk-item\"><div class=\"sk-estimator sk-toggleable\"><input class=\"sk-toggleable__control sk-hidden--visually\" id=\"sk-estimator-id-1\" type=\"checkbox\" checked><label for=\"sk-estimator-id-1\" class=\"sk-toggleable__label sk-toggleable__label-arrow\">KNeighborsClassifier</label><div class=\"sk-toggleable__content\"><pre>KNeighborsClassifier(n_neighbors=3)</pre></div></div></div></div></div>"
      ],
      "text/plain": [
       "KNeighborsClassifier(n_neighbors=3)"
      ]
     },
     "execution_count": 9,
     "metadata": {},
     "output_type": "execute_result"
    }
   ],
   "source": [
    "neigh = KNeighborsClassifier(n_neighbors=3)\n",
    "neigh.fit(X_train, y_train)"
   ]
  },
  {
   "cell_type": "markdown",
   "metadata": {},
   "source": [
    "A6"
   ]
  },
  {
   "cell_type": "code",
   "execution_count": 10,
   "metadata": {},
   "outputs": [
    {
     "name": "stdout",
     "output_type": "stream",
     "text": [
      "Accuracy: 0.5666666666666667\n"
     ]
    }
   ],
   "source": [
    "#accuracy of kNN\n",
    "\n",
    "accuracy = neigh.score(X_test, y_test)\n",
    "print(\"Accuracy:\", accuracy)"
   ]
  },
  {
   "cell_type": "markdown",
   "metadata": {},
   "source": [
    "A7"
   ]
  },
  {
   "cell_type": "code",
   "execution_count": 11,
   "metadata": {},
   "outputs": [
    {
     "data": {
      "text/plain": [
       "array([0, 1, 0, 0, 2, 0, 0, 0, 0, 0, 1, 1, 1, 0, 1, 0, 0, 0, 4, 1, 1, 0,\n",
       "       0, 0, 2, 1, 9, 0, 1, 1, 1, 0, 1, 1, 1, 1, 6, 0, 2, 9, 1, 0, 5, 6,\n",
       "       1, 0, 1, 0, 1, 8, 0, 6, 0, 1, 9, 1, 0, 0, 1, 2, 1, 0, 0, 0, 1, 0,\n",
       "       1, 0, 1, 1, 1, 0, 0, 1, 1, 0, 1, 0, 0, 1, 0, 0, 6, 0, 1, 0, 2, 0,\n",
       "       1, 0, 0, 0, 0, 0, 1, 0, 5, 0, 1, 1, 0, 2, 1, 1, 1, 1, 0, 9, 0, 9,\n",
       "       1, 0, 0, 0, 0, 1, 0, 0, 1, 1, 2, 1, 1, 0, 0, 0, 0, 6, 0, 0, 0, 0,\n",
       "       1, 1, 0, 0, 1, 1, 0, 0, 0, 2, 1, 0, 1, 0, 1, 1, 1, 0, 9, 4, 0, 0,\n",
       "       0, 0, 1, 0, 0, 0, 1, 1, 0, 1, 0, 0, 0, 1, 1, 2, 1, 1, 1, 0, 0, 0,\n",
       "       1, 1, 0, 9, 1, 2, 9, 0, 1, 1, 6, 0, 9, 0, 0, 0, 0, 1, 0, 1, 4, 2,\n",
       "       0, 2, 1, 6, 0, 0, 0, 0, 0, 0, 0, 9, 1, 1, 0, 0, 0, 0, 0, 1, 2, 0,\n",
       "       0, 0, 5, 1, 1, 1, 0, 0, 0, 0, 1, 0, 9, 1, 1, 0, 0, 0, 1, 1, 0, 0,\n",
       "       1, 9, 0, 3, 1, 0, 1, 1, 0, 0, 0, 0, 6, 2, 0, 1, 2, 1, 0, 0, 0, 1,\n",
       "       0, 0, 0, 0, 0, 0], dtype=int64)"
      ]
     },
     "execution_count": 11,
     "metadata": {},
     "output_type": "execute_result"
    }
   ],
   "source": [
    "predicted_classes = neigh.predict(X_test)\n",
    "\n",
    "predicted_classes"
   ]
  },
  {
   "cell_type": "markdown",
   "metadata": {},
   "source": [
    "A8"
   ]
  },
  {
   "cell_type": "code",
   "execution_count": 12,
   "metadata": {},
   "outputs": [
    {
     "data": {
      "image/png": "[encoded data removed]",
      "text/plain": [
       "<Figure size 432x288 with 1 Axes>"
      ]
     },
     "metadata": {
      "needs_background": "light"
     },
     "output_type": "display_data"
    }
   ],
   "source": [
    "accuracies = []\n",
    "\n",
    "for k in range(1, 12):\n",
    "    neigh = KNeighborsClassifier(n_neighbors=k)\n",
    "    neigh.fit(X_train, y_train)\n",
    "    accuracy = neigh.score(X_test, y_test)\n",
    "    accuracies.append(accuracy)\n",
    "\n",
    "plt.plot(range(1, 12), accuracies)\n",
    "plt.xlabel('k')\n",
    "plt.ylabel('Accuracy')\n",
    "plt.show()"
   ]
  },
  {
   "cell_type": "markdown",
   "metadata": {},
   "source": [
    "A9"
   ]
  },
  {
   "cell_type": "code",
   "execution_count": 13,
   "metadata": {},
   "outputs": [
    {
     "name": "stdout",
     "output_type": "stream",
     "text": [
      "Confusion Matrix (Training Data):\n",
      "[[228  24   4   0   0   1   4   0   0   1   0]\n",
      " [ 31 127   1   0   0   0   0   0   0   1   0]\n",
      " [ 50   5  16   0   0   1   1   0   0   1   0]\n",
      " [  6   4   0   0   0   0   0   0   0   0   0]\n",
      " [ 11   0   0   0   0   1   0   0   0   0   0]\n",
      " [ 23  14   2   0   0   8   0   0   0   0   1]\n",
      " [  7   0   0   0   0   0  22   0   0   0   0]\n",
      " [  2   4   1   0   0   0   0   0   0   0   0]\n",
      " [  5   1   0   0   0   0   0   0   0   0   0]\n",
      " [  9   3   0   0   0   0   1   0   0   3   0]\n",
      " [  6   0   0   0   0   0   0   0   0   0   0]]\n",
      "\n",
      "Confusion Matrix (Test Data):\n",
      "[[81 13  3  0  0  2  0  2  0]\n",
      " [16 68  0  0  1  0  0  1  0]\n",
      " [25  3  2  0  0  1  0  2  0]\n",
      " [ 8  0  0  0  0  0  0  0  0]\n",
      " [10  5  1  0  1  0  0  0  0]\n",
      " [ 4  0  0  0  0  3  0  0  0]\n",
      " [ 3  1  0  0  0  0  0  0  0]\n",
      " [ 4  2  0  0  0  0  0  2  0]\n",
      " [ 5  0  0  0  1  0  0  0  0]]\n",
      "\n",
      "Performance Metrics (Training Data):\n",
      "Precision: 0.6106479939813273\n",
      "Recall: 0.6412698412698413\n",
      "F1-Score: 0.5864051191925509\n",
      "\n",
      "Performance Metrics (Test Data):\n",
      "Precision: 0.512814466799974\n",
      "Recall: 0.5814814814814815\n",
      "F1-Score: 0.5178590843224545\n"
     ]
    },
    {
     "name": "stderr",
     "output_type": "stream",
     "text": [
      "C:\\Users\\anany\\AppData\\Roaming\\Python\\Python310\\site-packages\\sklearn\\metrics\\_classification.py:1344: UndefinedMetricWarning: Precision is ill-defined and being set to 0.0 in labels with no predicted samples. Use `zero_division` parameter to control this behavior.\n",
      "  _warn_prf(average, modifier, msg_start, len(result))\n",
      "C:\\Users\\anany\\AppData\\Roaming\\Python\\Python310\\site-packages\\sklearn\\metrics\\_classification.py:1344: UndefinedMetricWarning: Precision is ill-defined and being set to 0.0 in labels with no predicted samples. Use `zero_division` parameter to control this behavior.\n",
      "  _warn_prf(average, modifier, msg_start, len(result))\n"
     ]
    }
   ],
   "source": [
    "# Assuming 'neigh' is your kNN classifier\n",
    "y_train_pred = neigh.predict(X_train)\n",
    "y_test_pred = neigh.predict(X_test)\n",
    "\n",
    "# Confusion Matrix for Training Data\n",
    "confusion_train = confusion_matrix(y_train, y_train_pred)\n",
    "print(\"Confusion Matrix (Training Data):\")\n",
    "print(confusion_train)\n",
    "\n",
    "# Confusion Matrix for Test Data\n",
    "confusion_test = confusion_matrix(y_test, y_test_pred)\n",
    "print(\"\\nConfusion Matrix (Test Data):\")\n",
    "print(confusion_test)\n",
    "\n",
    "# Performance Metrics for Training Data\n",
    "precision_train = precision_score(y_train, y_train_pred, average='weighted')\n",
    "recall_train = recall_score(y_train, y_train_pred, average='weighted')\n",
    "f1_train = f1_score(y_train, y_train_pred, average='weighted')\n",
    "print(\"\\nPerformance Metrics (Training Data):\")\n",
    "print(f'Precision: {precision_train}')\n",
    "print(f'Recall: {recall_train}')\n",
    "print(f'F1-Score: {f1_train}')\n",
    "\n",
    "# Performance Metrics for Test Data\n",
    "precision_test = precision_score(y_test, y_test_pred, average='weighted')\n",
    "recall_test = recall_score(y_test, y_test_pred, average='weighted')\n",
    "f1_test = f1_score(y_test, y_test_pred, average='weighted')\n",
    "print(\"\\nPerformance Metrics (Test Data):\")\n",
    "print(f'Precision: {precision_test}')\n",
    "print(f'Recall: {recall_test}')\n",
    "print(f'F1-Score: {f1_test}')"
   ]
  }
 ],
 "metadata": {
  "kernelspec": {
   "display_name": "Python 3",
   "language": "python",
   "name": "python3"
  },
  "language_info": {
   "codemirror_mode": {
    "name": "ipython",
    "version": 3
   },
   "file_extension": ".py",
   "mimetype": "text/x-python",
   "name": "python",
   "nbconvert_exporter": "python",
   "pygments_lexer": "ipython3",
   "version": "3.10.8"
  },
  "orig_nbformat": 4
 },
 "nbformat": 4,
 "nbformat_minor": 2
}
